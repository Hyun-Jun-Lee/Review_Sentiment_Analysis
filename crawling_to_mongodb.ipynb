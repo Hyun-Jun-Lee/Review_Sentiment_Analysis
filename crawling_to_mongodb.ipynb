{
 "cells": [
  {
   "cell_type": "code",
   "execution_count": 7,
   "metadata": {},
   "outputs": [],
   "source": [
    "import requests\n",
    "from urllib import parse\n",
    "from bs4 import BeautifulSoup\n",
    "import pymongo\n",
    "import time\n",
    "import random\n",
    "import pandas as pd"
   ]
  },
  {
   "cell_type": "code",
   "execution_count": 2,
   "metadata": {},
   "outputs": [],
   "source": [
    "# mongoDB 연결 and crawling_review collection 생성\n",
    "conn = pymongo.MongoClient()\n",
    "db = conn.crawling_review"
   ]
  },
  {
   "cell_type": "code",
   "execution_count": 4,
   "metadata": {},
   "outputs": [],
   "source": [
    "# 네이버 평점 url, 여러 페이지 조회하기 위해 url page= 부분 format\n",
    "base_url = \"https://movie.naver.com/movie/point/af/list.naver?&page={}\"\n",
    "\n",
    "data_list = []"
   ]
  },
  {
   "cell_type": "code",
   "execution_count": 5,
   "metadata": {},
   "outputs": [
    {
     "name": "stdout",
     "output_type": "stream",
     "text": [
      "완료\n"
     ]
    }
   ],
   "source": [
    "# 평점 크롤링 \n",
    "for page in range(1,1000):\n",
    "    url = base_url.format(page)\n",
    "    res = requests.get(url)\n",
    "    # 200 : 요청을 제대로 처리햇다는 뜻\n",
    "    if res.status_code == 200:\n",
    "        soup = BeautifulSoup(res.text, 'html.parser')\n",
    "        html_path = soup.select('td.title')\n",
    "        for td in html_path:\n",
    "            # .text로 조회하면 태그들도 포함되므로 br태그 그 태그 내용 찾기위해 next_sibling\n",
    "            review = td.select_one('br').next_sibling.text.strip()\n",
    "            star = td.select_one('div.list_netizen_score > em').text.strip()\n",
    "            data_list.append((star,review))\n",
    "        delay = round(random.uniform(0.2,1.2),2)\n",
    "        time.sleep(delay)\n",
    "print('완료')"
   ]
  },
  {
   "cell_type": "code",
   "execution_count": 42,
   "metadata": {},
   "outputs": [],
   "source": [
    "star = data['평점'].values\n",
    "star = list(star)\n",
    "comment = data['리뷰'].values\n",
    "comment = list(comment)"
   ]
  },
  {
   "cell_type": "code",
   "execution_count": 43,
   "metadata": {},
   "outputs": [
    {
     "data": {
      "text/plain": [
       "<pymongo.results.InsertOneResult at 0x19c23f6d940>"
      ]
     },
     "execution_count": 43,
     "metadata": {},
     "output_type": "execute_result"
    }
   ],
   "source": [
    "# mongoDB 저장\n",
    "doc = {\n",
    "    'star':star,\n",
    "    'comment':comment\n",
    "}\n",
    "db.movies.insert_one(doc)"
   ]
  },
  {
   "cell_type": "code",
   "execution_count": 44,
   "metadata": {},
   "outputs": [
    {
     "data": {
      "text/html": [
       "<div>\n",
       "<style scoped>\n",
       "    .dataframe tbody tr th:only-of-type {\n",
       "        vertical-align: middle;\n",
       "    }\n",
       "\n",
       "    .dataframe tbody tr th {\n",
       "        vertical-align: top;\n",
       "    }\n",
       "\n",
       "    .dataframe thead th {\n",
       "        text-align: right;\n",
       "    }\n",
       "</style>\n",
       "<table border=\"1\" class=\"dataframe\">\n",
       "  <thead>\n",
       "    <tr style=\"text-align: right;\">\n",
       "      <th></th>\n",
       "      <th>index</th>\n",
       "      <th>평점</th>\n",
       "      <th>리뷰</th>\n",
       "    </tr>\n",
       "  </thead>\n",
       "  <tbody>\n",
       "    <tr>\n",
       "      <th>0</th>\n",
       "      <td>0</td>\n",
       "      <td>10</td>\n",
       "      <td>평점이 낮아서 안보려다 봤는데 보길 정말 잘했슴ㄷㅏ.저는 지루하지않았고 후반부로 갈...</td>\n",
       "    </tr>\n",
       "    <tr>\n",
       "      <th>1</th>\n",
       "      <td>1</td>\n",
       "      <td>10</td>\n",
       "      <td>가슴 시리도록 기억에 오래 남을 영화. 공유 전도연의 연기는.. 잊혀지지 않을 것 ...</td>\n",
       "    </tr>\n",
       "    <tr>\n",
       "      <th>2</th>\n",
       "      <td>2</td>\n",
       "      <td>1</td>\n",
       "      <td>대체... 이게 뭐죠?</td>\n",
       "    </tr>\n",
       "    <tr>\n",
       "      <th>3</th>\n",
       "      <td>3</td>\n",
       "      <td>9</td>\n",
       "      <td>우리가 자라고 우리가 사랑을 하고 우리가 결혼을 하고 우리가 아이를 키우고 우리가 ...</td>\n",
       "    </tr>\n",
       "    <tr>\n",
       "      <th>4</th>\n",
       "      <td>4</td>\n",
       "      <td>1</td>\n",
       "      <td>보는 내가 유체이탈할뻔 보다가 나온 영화는 처음임답답하고 주인공 본인도 몰라 답답한...</td>\n",
       "    </tr>\n",
       "    <tr>\n",
       "      <th>...</th>\n",
       "      <td>...</td>\n",
       "      <td>...</td>\n",
       "      <td>...</td>\n",
       "    </tr>\n",
       "    <tr>\n",
       "      <th>9985</th>\n",
       "      <td>9985</td>\n",
       "      <td>6</td>\n",
       "      <td>님의 하드캐리</td>\n",
       "    </tr>\n",
       "    <tr>\n",
       "      <th>9986</th>\n",
       "      <td>9986</td>\n",
       "      <td>7</td>\n",
       "      <td>로맨스 영화를 가장한 SF물이라서 뭔가 아쉬움이 남는 영화.개봉당시 포스터만 봐도 ...</td>\n",
       "    </tr>\n",
       "    <tr>\n",
       "      <th>9987</th>\n",
       "      <td>9987</td>\n",
       "      <td>10</td>\n",
       "      <td>연출, 연기 다 좋습니다</td>\n",
       "    </tr>\n",
       "    <tr>\n",
       "      <th>9988</th>\n",
       "      <td>9988</td>\n",
       "      <td>6</td>\n",
       "      <td>아저씨+뷰티인사이드</td>\n",
       "    </tr>\n",
       "    <tr>\n",
       "      <th>9989</th>\n",
       "      <td>9989</td>\n",
       "      <td>8</td>\n",
       "      <td>와 진짜 영화 보는내내 언제 어떻게 공격을 받을지 모르니까계속 심장 쫄리고 긴장한 ...</td>\n",
       "    </tr>\n",
       "  </tbody>\n",
       "</table>\n",
       "<p>9990 rows × 3 columns</p>\n",
       "</div>"
      ],
      "text/plain": [
       "      index  평점                                                 리뷰\n",
       "0         0  10  평점이 낮아서 안보려다 봤는데 보길 정말 잘했슴ㄷㅏ.저는 지루하지않았고 후반부로 갈...\n",
       "1         1  10  가슴 시리도록 기억에 오래 남을 영화. 공유 전도연의 연기는.. 잊혀지지 않을 것 ...\n",
       "2         2   1                                       대체... 이게 뭐죠?\n",
       "3         3   9  우리가 자라고 우리가 사랑을 하고 우리가 결혼을 하고 우리가 아이를 키우고 우리가 ...\n",
       "4         4   1  보는 내가 유체이탈할뻔 보다가 나온 영화는 처음임답답하고 주인공 본인도 몰라 답답한...\n",
       "...     ...  ..                                                ...\n",
       "9985   9985   6                                            님의 하드캐리\n",
       "9986   9986   7  로맨스 영화를 가장한 SF물이라서 뭔가 아쉬움이 남는 영화.개봉당시 포스터만 봐도 ...\n",
       "9987   9987  10                                      연출, 연기 다 좋습니다\n",
       "9988   9988   6                                         아저씨+뷰티인사이드\n",
       "9989   9989   8  와 진짜 영화 보는내내 언제 어떻게 공격을 받을지 모르니까계속 심장 쫄리고 긴장한 ...\n",
       "\n",
       "[9990 rows x 3 columns]"
      ]
     },
     "execution_count": 44,
     "metadata": {},
     "output_type": "execute_result"
    }
   ],
   "source": [
    "# csv 저장\n",
    "data"
   ]
  },
  {
   "cell_type": "code",
   "execution_count": null,
   "metadata": {},
   "outputs": [],
   "source": []
  }
 ],
 "metadata": {
  "interpreter": {
   "hash": "0be24c33af7446dafa391074f2280be7d3113abbd9fa0fd6b60ea42f0333b281"
  },
  "kernelspec": {
   "display_name": "Python 3.8.12 64-bit ('movie_review': conda)",
   "language": "python",
   "name": "python3"
  },
  "language_info": {
   "codemirror_mode": {
    "name": "ipython",
    "version": 3
   },
   "file_extension": ".py",
   "mimetype": "text/x-python",
   "name": "python",
   "nbconvert_exporter": "python",
   "pygments_lexer": "ipython3",
   "version": "3.8.12"
  },
  "orig_nbformat": 4
 },
 "nbformat": 4,
 "nbformat_minor": 2
}
