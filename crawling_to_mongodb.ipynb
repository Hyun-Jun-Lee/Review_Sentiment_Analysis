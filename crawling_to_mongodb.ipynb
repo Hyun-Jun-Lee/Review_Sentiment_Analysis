{
 "cells": [
  {
   "cell_type": "code",
   "execution_count": 7,
   "metadata": {},
   "outputs": [],
   "source": [
    "import requests\n",
    "from urllib import parse\n",
    "from bs4 import BeautifulSoup\n",
    "import pymongo\n",
    "import time\n",
    "import random\n",
    "import pandas as pd"
   ]
  },
  {
   "cell_type": "code",
   "execution_count": 2,
   "metadata": {},
   "outputs": [],
   "source": [
    "# mongoDB 연결 and crawling_review collection 생성\n",
    "conn = pymongo.MongoClient()\n",
    "db = conn.crawling_review"
   ]
  },
  {
   "cell_type": "code",
   "execution_count": 4,
   "metadata": {},
   "outputs": [],
   "source": [
    "# 네이버 평점 url, 여러 페이지 조회하기 위해 url page= 부분 format\n",
    "base_url = \"https://movie.naver.com/movie/point/af/list.naver?&page={}\"\n",
    "\n",
    "data_list = []"
   ]
  },
  {
   "cell_type": "code",
   "execution_count": 5,
   "metadata": {},
   "outputs": [
    {
     "name": "stdout",
     "output_type": "stream",
     "text": [
      "완료\n"
     ]
    }
   ],
   "source": [
    "# 평점 크롤링 \n",
    "for page in range(1,1000):\n",
    "    url = base_url.format(page)\n",
    "    res = requests.get(url)\n",
    "    # 200 : 요청을 제대로 처리햇다는 뜻\n",
    "    if res.status_code == 200:\n",
    "        soup = BeautifulSoup(res.text, 'html.parser')\n",
    "        html_path = soup.select('td.title')\n",
    "        for td in html_path:\n",
    "            # .text로 조회하면 태그들도 포함되므로 br태그 그 태그 내용 찾기위해 next_sibling\n",
    "            review = td.select_one('br').next_sibling.text.strip()\n",
    "            star = td.select_one('div.list_netizen_score > em').text.strip()\n",
    "            data_list.append((star,review))\n",
    "        delay = round(random.uniform(0.2,1.2),2)\n",
    "        time.sleep(delay)\n",
    "print('완료')"
   ]
  },
  {
   "cell_type": "code",
   "execution_count": 47,
   "metadata": {},
   "outputs": [],
   "source": [
    "star = data['평점'].values\n",
    "star = list(star)\n",
    "st_db = []\n",
    "for s in star:\n",
    "    st_db.append(s)\n",
    "    \n",
    "comment = data['리뷰'].values\n",
    "comment = list(comment)\n",
    "comm_db = []\n",
    "for c in comment:\n",
    "    comm_db.append(c)"
   ]
  },
  {
   "cell_type": "code",
   "execution_count": 50,
   "metadata": {},
   "outputs": [
    {
     "data": {
      "text/plain": [
       "<pymongo.results.InsertOneResult at 0x19c22f51b00>"
      ]
     },
     "execution_count": 50,
     "metadata": {},
     "output_type": "execute_result"
    }
   ],
   "source": [
    "# mongoDB 저장\n",
    "doc = {\n",
    "    'star':st_db,\n",
    "    'comment':comm_db\n",
    "}\n",
    "db.movies.insert_one(doc)"
   ]
  },
  {
   "cell_type": "code",
   "execution_count": 53,
   "metadata": {},
   "outputs": [],
   "source": [
    "# DB 연결 종료\n",
    "conn.close()"
   ]
  },
  {
   "cell_type": "code",
   "execution_count": 52,
   "metadata": {},
   "outputs": [],
   "source": [
    "# csv 저장\n",
    "data.to_csv('movie_review.csv')"
   ]
  }
 ],
 "metadata": {
  "interpreter": {
   "hash": "0be24c33af7446dafa391074f2280be7d3113abbd9fa0fd6b60ea42f0333b281"
  },
  "kernelspec": {
   "display_name": "Python 3.8.12 64-bit ('movie_review': conda)",
   "language": "python",
   "name": "python3"
  },
  "language_info": {
   "codemirror_mode": {
    "name": "ipython",
    "version": 3
   },
   "file_extension": ".py",
   "mimetype": "text/x-python",
   "name": "python",
   "nbconvert_exporter": "python",
   "pygments_lexer": "ipython3",
   "version": "3.8.12"
  },
  "orig_nbformat": 4
 },
 "nbformat": 4,
 "nbformat_minor": 2
}
