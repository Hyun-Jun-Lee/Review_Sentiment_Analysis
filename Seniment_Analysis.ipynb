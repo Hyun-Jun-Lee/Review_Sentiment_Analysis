{
 "cells": [
  {
   "cell_type": "markdown",
   "metadata": {},
   "source": [
    "## Import library"
   ]
  },
  {
   "cell_type": "code",
   "execution_count": 4,
   "metadata": {},
   "outputs": [],
   "source": [
    "import pandas as pd\n",
    "import pymongo\n",
    "import matplotlib.pyplot as plt\n",
    "from tqdm import tqdm\n",
    "from tensorflow.keras.preprocessing.text import Tokenizer\n",
    "import numpy as np\n",
    "from tensorflow.keras.preprocessing.sequence import pad_sequences\n",
    "from konlpy.tag import Okt"
   ]
  },
  {
   "cell_type": "markdown",
   "metadata": {},
   "source": [
    "## MongoDB to DataFrame"
   ]
  },
  {
   "cell_type": "code",
   "execution_count": 5,
   "metadata": {},
   "outputs": [],
   "source": [
    "# Mongodb 불러오기\n",
    "import pymongo\n",
    "\n",
    "# mongodb 연결\n",
    "conn = pymongo.MongoClient()\n",
    "\n",
    "# DB접근\n",
    "db = conn['crawling_review']\n",
    "\n",
    "# collection 접근\n",
    "collection = db['movies']"
   ]
  },
  {
   "cell_type": "code",
   "execution_count": 6,
   "metadata": {},
   "outputs": [
    {
     "data": {
      "text/html": [
       "<div>\n",
       "<style scoped>\n",
       "    .dataframe tbody tr th:only-of-type {\n",
       "        vertical-align: middle;\n",
       "    }\n",
       "\n",
       "    .dataframe tbody tr th {\n",
       "        vertical-align: top;\n",
       "    }\n",
       "\n",
       "    .dataframe thead th {\n",
       "        text-align: right;\n",
       "    }\n",
       "</style>\n",
       "<table border=\"1\" class=\"dataframe\">\n",
       "  <thead>\n",
       "    <tr style=\"text-align: right;\">\n",
       "      <th></th>\n",
       "      <th>star</th>\n",
       "      <th>comment</th>\n",
       "    </tr>\n",
       "  </thead>\n",
       "  <tbody>\n",
       "    <tr>\n",
       "      <th>3207</th>\n",
       "      <td>10</td>\n",
       "      <td>자녀의 마음도 부모의 마음도 헤아려볼 수 있었던 좋은 영화</td>\n",
       "    </tr>\n",
       "    <tr>\n",
       "      <th>332</th>\n",
       "      <td>9</td>\n",
       "      <td>와우 이런 상상력이라니.</td>\n",
       "    </tr>\n",
       "    <tr>\n",
       "      <th>3519</th>\n",
       "      <td>8</td>\n",
       "      <td></td>\n",
       "    </tr>\n",
       "    <tr>\n",
       "      <th>4090</th>\n",
       "      <td>8</td>\n",
       "      <td>브이로그를 보는듯한 느낌이였어요 재밌게 잘 봤습니다 :)</td>\n",
       "    </tr>\n",
       "    <tr>\n",
       "      <th>8601</th>\n",
       "      <td>10</td>\n",
       "      <td>피로 비눗방울을 만들어 날려 보내는 장면이 인상적이었어요</td>\n",
       "    </tr>\n",
       "    <tr>\n",
       "      <th>9561</th>\n",
       "      <td>5</td>\n",
       "      <td>보통수준</td>\n",
       "    </tr>\n",
       "    <tr>\n",
       "      <th>9492</th>\n",
       "      <td>2</td>\n",
       "      <td>식상했음 흔한 느와르. 등장인물들 모두 여자였다면 아무리 흔한 스토리의 느와르라도 ...</td>\n",
       "    </tr>\n",
       "    <tr>\n",
       "      <th>6444</th>\n",
       "      <td>10</td>\n",
       "      <td>오랜만에 만난 정말 좋은 영화였습니다. 케이트 블란챗의 연기력은 정말 최고입니다. ...</td>\n",
       "    </tr>\n",
       "    <tr>\n",
       "      <th>5556</th>\n",
       "      <td>10</td>\n",
       "      <td>미쳤어요너무재밌어요</td>\n",
       "    </tr>\n",
       "    <tr>\n",
       "      <th>8420</th>\n",
       "      <td>2</td>\n",
       "      <td>진짜 다 댓글 알바냐? ㅡㅡ 평점보고 좋아서 봤다가 시간만 날렸다 절대 보지마라 ㅡㅡ</td>\n",
       "    </tr>\n",
       "  </tbody>\n",
       "</table>\n",
       "</div>"
      ],
      "text/plain": [
       "     star                                            comment\n",
       "3207   10                   자녀의 마음도 부모의 마음도 헤아려볼 수 있었던 좋은 영화\n",
       "332     9                                      와우 이런 상상력이라니.\n",
       "3519    8                                                   \n",
       "4090    8                    브이로그를 보는듯한 느낌이였어요 재밌게 잘 봤습니다 :)\n",
       "8601   10                    피로 비눗방울을 만들어 날려 보내는 장면이 인상적이었어요\n",
       "9561    5                                               보통수준\n",
       "9492    2  식상했음 흔한 느와르. 등장인물들 모두 여자였다면 아무리 흔한 스토리의 느와르라도 ...\n",
       "6444   10  오랜만에 만난 정말 좋은 영화였습니다. 케이트 블란챗의 연기력은 정말 최고입니다. ...\n",
       "5556   10                                         미쳤어요너무재밌어요\n",
       "8420    2    진짜 다 댓글 알바냐? ㅡㅡ 평점보고 좋아서 봤다가 시간만 날렸다 절대 보지마라 ㅡㅡ"
      ]
     },
     "execution_count": 6,
     "metadata": {},
     "output_type": "execute_result"
    }
   ],
   "source": [
    "# DataFrame\n",
    "doc = collection.find_one()\n",
    "data = pd.DataFrame(doc, columns=['star','comment'])\n",
    "data.sample(10)"
   ]
  },
  {
   "cell_type": "code",
   "execution_count": 7,
   "metadata": {},
   "outputs": [
    {
     "name": "stdout",
     "output_type": "stream",
     "text": [
      "<class 'pandas.core.frame.DataFrame'>\n",
      "RangeIndex: 9990 entries, 0 to 9989\n",
      "Data columns (total 2 columns):\n",
      " #   Column   Non-Null Count  Dtype \n",
      "---  ------   --------------  ----- \n",
      " 0   star     9990 non-null   object\n",
      " 1   comment  9990 non-null   object\n",
      "dtypes: object(2)\n",
      "memory usage: 156.2+ KB\n"
     ]
    }
   ],
   "source": [
    "data.info()"
   ]
  },
  {
   "cell_type": "code",
   "execution_count": 8,
   "metadata": {},
   "outputs": [
    {
     "data": {
      "text/plain": [
       "star        int32\n",
       "comment    object\n",
       "dtype: object"
      ]
     },
     "execution_count": 8,
     "metadata": {},
     "output_type": "execute_result"
    }
   ],
   "source": [
    "# data tpye 변경\n",
    "data = data.astype({'star':'int'})\n",
    "data.dtypes"
   ]
  },
  {
   "cell_type": "markdown",
   "metadata": {},
   "source": [
    "## label 설정"
   ]
  },
  {
   "cell_type": "code",
   "execution_count": 9,
   "metadata": {},
   "outputs": [
    {
     "name": "stderr",
     "output_type": "stream",
     "text": [
      "C:\\Users\\User\\AppData\\Local\\Temp/ipykernel_18948/2313997164.py:3: SettingWithCopyWarning: \n",
      "A value is trying to be set on a copy of a slice from a DataFrame.\n",
      "Try using .loc[row_indexer,col_indexer] = value instead\n",
      "\n",
      "See the caveats in the documentation: https://pandas.pydata.org/pandas-docs/stable/user_guide/indexing.html#returning-a-view-versus-a-copy\n",
      "  data_pos['label'] = 1\n"
     ]
    },
    {
     "data": {
      "text/html": [
       "<div>\n",
       "<style scoped>\n",
       "    .dataframe tbody tr th:only-of-type {\n",
       "        vertical-align: middle;\n",
       "    }\n",
       "\n",
       "    .dataframe tbody tr th {\n",
       "        vertical-align: top;\n",
       "    }\n",
       "\n",
       "    .dataframe thead th {\n",
       "        text-align: right;\n",
       "    }\n",
       "</style>\n",
       "<table border=\"1\" class=\"dataframe\">\n",
       "  <thead>\n",
       "    <tr style=\"text-align: right;\">\n",
       "      <th></th>\n",
       "      <th>star</th>\n",
       "      <th>comment</th>\n",
       "      <th>label</th>\n",
       "    </tr>\n",
       "  </thead>\n",
       "  <tbody>\n",
       "    <tr>\n",
       "      <th>0</th>\n",
       "      <td>10</td>\n",
       "      <td>평점이 낮아서 안보려다 봤는데 보길 정말 잘했슴ㄷㅏ.저는 지루하지않았고 후반부로 갈...</td>\n",
       "      <td>1</td>\n",
       "    </tr>\n",
       "    <tr>\n",
       "      <th>1</th>\n",
       "      <td>10</td>\n",
       "      <td>가슴 시리도록 기억에 오래 남을 영화. 공유 전도연의 연기는.. 잊혀지지 않을 것 ...</td>\n",
       "      <td>1</td>\n",
       "    </tr>\n",
       "    <tr>\n",
       "      <th>3</th>\n",
       "      <td>9</td>\n",
       "      <td>우리가 자라고 우리가 사랑을 하고 우리가 결혼을 하고 우리가 아이를 키우고 우리가 ...</td>\n",
       "      <td>1</td>\n",
       "    </tr>\n",
       "    <tr>\n",
       "      <th>5</th>\n",
       "      <td>7</td>\n",
       "      <td>믿고보는 황정밋 배우!!</td>\n",
       "      <td>1</td>\n",
       "    </tr>\n",
       "    <tr>\n",
       "      <th>8</th>\n",
       "      <td>10</td>\n",
       "      <td>으악 ㅋㅋ 너무무서웠어요 ㅠㅠ</td>\n",
       "      <td>1</td>\n",
       "    </tr>\n",
       "    <tr>\n",
       "      <th>...</th>\n",
       "      <td>...</td>\n",
       "      <td>...</td>\n",
       "      <td>...</td>\n",
       "    </tr>\n",
       "    <tr>\n",
       "      <th>9981</th>\n",
       "      <td>10</td>\n",
       "      <td>굿굿 ㅅ평점왜이러지?</td>\n",
       "      <td>1</td>\n",
       "    </tr>\n",
       "    <tr>\n",
       "      <th>9983</th>\n",
       "      <td>10</td>\n",
       "      <td>참신한 주제와 훌륭한 배우들과 연출 좋았습니다 몰입해서 잘 봤어요</td>\n",
       "      <td>1</td>\n",
       "    </tr>\n",
       "    <tr>\n",
       "      <th>9986</th>\n",
       "      <td>7</td>\n",
       "      <td>로맨스 영화를 가장한 SF물이라서 뭔가 아쉬움이 남는 영화.개봉당시 포스터만 봐도 ...</td>\n",
       "      <td>1</td>\n",
       "    </tr>\n",
       "    <tr>\n",
       "      <th>9987</th>\n",
       "      <td>10</td>\n",
       "      <td>연출, 연기 다 좋습니다</td>\n",
       "      <td>1</td>\n",
       "    </tr>\n",
       "    <tr>\n",
       "      <th>9989</th>\n",
       "      <td>8</td>\n",
       "      <td>와 진짜 영화 보는내내 언제 어떻게 공격을 받을지 모르니까계속 심장 쫄리고 긴장한 ...</td>\n",
       "      <td>1</td>\n",
       "    </tr>\n",
       "  </tbody>\n",
       "</table>\n",
       "<p>6924 rows × 3 columns</p>\n",
       "</div>"
      ],
      "text/plain": [
       "      star                                            comment  label\n",
       "0       10  평점이 낮아서 안보려다 봤는데 보길 정말 잘했슴ㄷㅏ.저는 지루하지않았고 후반부로 갈...      1\n",
       "1       10  가슴 시리도록 기억에 오래 남을 영화. 공유 전도연의 연기는.. 잊혀지지 않을 것 ...      1\n",
       "3        9  우리가 자라고 우리가 사랑을 하고 우리가 결혼을 하고 우리가 아이를 키우고 우리가 ...      1\n",
       "5        7                                      믿고보는 황정밋 배우!!      1\n",
       "8       10                                   으악 ㅋㅋ 너무무서웠어요 ㅠㅠ      1\n",
       "...    ...                                                ...    ...\n",
       "9981    10                                        굿굿 ㅅ평점왜이러지?      1\n",
       "9983    10               참신한 주제와 훌륭한 배우들과 연출 좋았습니다 몰입해서 잘 봤어요      1\n",
       "9986     7  로맨스 영화를 가장한 SF물이라서 뭔가 아쉬움이 남는 영화.개봉당시 포스터만 봐도 ...      1\n",
       "9987    10                                      연출, 연기 다 좋습니다      1\n",
       "9989     8  와 진짜 영화 보는내내 언제 어떻게 공격을 받을지 모르니까계속 심장 쫄리고 긴장한 ...      1\n",
       "\n",
       "[6924 rows x 3 columns]"
      ]
     },
     "execution_count": 9,
     "metadata": {},
     "output_type": "execute_result"
    }
   ],
   "source": [
    "# 평점 7 이상 = 긍정(1)\n",
    "data_pos = data[data['star']>=7]\n",
    "data_pos['label'] = 1\n",
    "data_pos"
   ]
  },
  {
   "cell_type": "code",
   "execution_count": 10,
   "metadata": {},
   "outputs": [
    {
     "name": "stderr",
     "output_type": "stream",
     "text": [
      "C:\\Users\\User\\AppData\\Local\\Temp/ipykernel_18948/1242165523.py:3: SettingWithCopyWarning: \n",
      "A value is trying to be set on a copy of a slice from a DataFrame.\n",
      "Try using .loc[row_indexer,col_indexer] = value instead\n",
      "\n",
      "See the caveats in the documentation: https://pandas.pydata.org/pandas-docs/stable/user_guide/indexing.html#returning-a-view-versus-a-copy\n",
      "  data_neg['label'] = 0\n"
     ]
    },
    {
     "data": {
      "text/html": [
       "<div>\n",
       "<style scoped>\n",
       "    .dataframe tbody tr th:only-of-type {\n",
       "        vertical-align: middle;\n",
       "    }\n",
       "\n",
       "    .dataframe tbody tr th {\n",
       "        vertical-align: top;\n",
       "    }\n",
       "\n",
       "    .dataframe thead th {\n",
       "        text-align: right;\n",
       "    }\n",
       "</style>\n",
       "<table border=\"1\" class=\"dataframe\">\n",
       "  <thead>\n",
       "    <tr style=\"text-align: right;\">\n",
       "      <th></th>\n",
       "      <th>star</th>\n",
       "      <th>comment</th>\n",
       "      <th>label</th>\n",
       "    </tr>\n",
       "  </thead>\n",
       "  <tbody>\n",
       "    <tr>\n",
       "      <th>2</th>\n",
       "      <td>1</td>\n",
       "      <td>대체... 이게 뭐죠?</td>\n",
       "      <td>0</td>\n",
       "    </tr>\n",
       "    <tr>\n",
       "      <th>4</th>\n",
       "      <td>1</td>\n",
       "      <td>보는 내가 유체이탈할뻔 보다가 나온 영화는 처음임답답하고 주인공 본인도 몰라 답답한...</td>\n",
       "      <td>0</td>\n",
       "    </tr>\n",
       "    <tr>\n",
       "      <th>6</th>\n",
       "      <td>1</td>\n",
       "      <td>고양이가 그렇게 불쌍하시면 데려가서 키우세요. 집없이 밖에서 벌벌떠는 고양이들이 불...</td>\n",
       "      <td>0</td>\n",
       "    </tr>\n",
       "    <tr>\n",
       "      <th>7</th>\n",
       "      <td>2</td>\n",
       "      <td>연출 연기 스토리 전부 잘못된 영화</td>\n",
       "      <td>0</td>\n",
       "    </tr>\n",
       "    <tr>\n",
       "      <th>9</th>\n",
       "      <td>1</td>\n",
       "      <td>중국 자본인 게 너무 티나서 아쉽다.</td>\n",
       "      <td>0</td>\n",
       "    </tr>\n",
       "    <tr>\n",
       "      <th>...</th>\n",
       "      <td>...</td>\n",
       "      <td>...</td>\n",
       "      <td>...</td>\n",
       "    </tr>\n",
       "    <tr>\n",
       "      <th>9980</th>\n",
       "      <td>5</td>\n",
       "      <td>재미없음</td>\n",
       "      <td>0</td>\n",
       "    </tr>\n",
       "    <tr>\n",
       "      <th>9982</th>\n",
       "      <td>3</td>\n",
       "      <td>필름을 드라마 찍을때 사용하는 방식으로 찍엇노??? 장혁,유오성 너무 아깝다. 감독...</td>\n",
       "      <td>0</td>\n",
       "    </tr>\n",
       "    <tr>\n",
       "      <th>9984</th>\n",
       "      <td>4</td>\n",
       "      <td>강원도사투리가 넘쎄서 영화스타일이랑 안어울림.  뭐라고하는지 원...</td>\n",
       "      <td>0</td>\n",
       "    </tr>\n",
       "    <tr>\n",
       "      <th>9985</th>\n",
       "      <td>6</td>\n",
       "      <td>님의 하드캐리</td>\n",
       "      <td>0</td>\n",
       "    </tr>\n",
       "    <tr>\n",
       "      <th>9988</th>\n",
       "      <td>6</td>\n",
       "      <td>아저씨+뷰티인사이드</td>\n",
       "      <td>0</td>\n",
       "    </tr>\n",
       "  </tbody>\n",
       "</table>\n",
       "<p>3066 rows × 3 columns</p>\n",
       "</div>"
      ],
      "text/plain": [
       "      star                                            comment  label\n",
       "2        1                                       대체... 이게 뭐죠?      0\n",
       "4        1  보는 내가 유체이탈할뻔 보다가 나온 영화는 처음임답답하고 주인공 본인도 몰라 답답한...      0\n",
       "6        1  고양이가 그렇게 불쌍하시면 데려가서 키우세요. 집없이 밖에서 벌벌떠는 고양이들이 불...      0\n",
       "7        2                                연출 연기 스토리 전부 잘못된 영화      0\n",
       "9        1                               중국 자본인 게 너무 티나서 아쉽다.      0\n",
       "...    ...                                                ...    ...\n",
       "9980     5                                               재미없음      0\n",
       "9982     3  필름을 드라마 찍을때 사용하는 방식으로 찍엇노??? 장혁,유오성 너무 아깝다. 감독...      0\n",
       "9984     4             강원도사투리가 넘쎄서 영화스타일이랑 안어울림.  뭐라고하는지 원...      0\n",
       "9985     6                                            님의 하드캐리      0\n",
       "9988     6                                         아저씨+뷰티인사이드      0\n",
       "\n",
       "[3066 rows x 3 columns]"
      ]
     },
     "execution_count": 10,
     "metadata": {},
     "output_type": "execute_result"
    }
   ],
   "source": [
    "# 평점 6 이하 = 부정(0)\n",
    "data_neg = data[data['star']<7]\n",
    "data_neg['label'] = 0\n",
    "data_neg"
   ]
  },
  {
   "cell_type": "code",
   "execution_count": 11,
   "metadata": {},
   "outputs": [
    {
     "data": {
      "text/html": [
       "<div>\n",
       "<style scoped>\n",
       "    .dataframe tbody tr th:only-of-type {\n",
       "        vertical-align: middle;\n",
       "    }\n",
       "\n",
       "    .dataframe tbody tr th {\n",
       "        vertical-align: top;\n",
       "    }\n",
       "\n",
       "    .dataframe thead th {\n",
       "        text-align: right;\n",
       "    }\n",
       "</style>\n",
       "<table border=\"1\" class=\"dataframe\">\n",
       "  <thead>\n",
       "    <tr style=\"text-align: right;\">\n",
       "      <th></th>\n",
       "      <th>star</th>\n",
       "      <th>comment</th>\n",
       "      <th>label</th>\n",
       "    </tr>\n",
       "  </thead>\n",
       "  <tbody>\n",
       "    <tr>\n",
       "      <th>5255</th>\n",
       "      <td>8</td>\n",
       "      <td>눈이 즐거운 영화. 그런데 잡지 내용을 글로 읽느라 미장센을 다 즐기지 못해서 아쉬...</td>\n",
       "      <td>1</td>\n",
       "    </tr>\n",
       "    <tr>\n",
       "      <th>2646</th>\n",
       "      <td>8</td>\n",
       "      <td>자아실현이 필요한 아줌마들의 힐링 영화.</td>\n",
       "      <td>1</td>\n",
       "    </tr>\n",
       "    <tr>\n",
       "      <th>2862</th>\n",
       "      <td>10</td>\n",
       "      <td>진짜 울면서 봤습니다 너무 재밌어요</td>\n",
       "      <td>1</td>\n",
       "    </tr>\n",
       "    <tr>\n",
       "      <th>1600</th>\n",
       "      <td>9</td>\n",
       "      <td>1편에는 못따라가지만 재밌었음</td>\n",
       "      <td>1</td>\n",
       "    </tr>\n",
       "    <tr>\n",
       "      <th>8669</th>\n",
       "      <td>5</td>\n",
       "      <td>양아치와 건달의 싸움. 재미있게 봤음. 주조연과 단역의 연기는 좋았는데,당최 왜 장...</td>\n",
       "      <td>0</td>\n",
       "    </tr>\n",
       "    <tr>\n",
       "      <th>6595</th>\n",
       "      <td>10</td>\n",
       "      <td>전 재미있게 봤네요.   ㅎㅎ대사도 좋고...\"아직 오지 않은 것을 기다리며 알 수...</td>\n",
       "      <td>1</td>\n",
       "    </tr>\n",
       "    <tr>\n",
       "      <th>1110</th>\n",
       "      <td>7</td>\n",
       "      <td>좀 졸았지만 영화는 정말 예쁘다 마지막 애니메이션이 좋았음</td>\n",
       "      <td>1</td>\n",
       "    </tr>\n",
       "    <tr>\n",
       "      <th>6592</th>\n",
       "      <td>10</td>\n",
       "      <td>진짜 재밋게봤음 음악스토리영상다좋음</td>\n",
       "      <td>1</td>\n",
       "    </tr>\n",
       "    <tr>\n",
       "      <th>4689</th>\n",
       "      <td>10</td>\n",
       "      <td>오랜만에 새로운 국산 애니가 나온 소식을 접하게 되어 매우 기쁜 것 같습니다. 몇 ...</td>\n",
       "      <td>1</td>\n",
       "    </tr>\n",
       "    <tr>\n",
       "      <th>2552</th>\n",
       "      <td>10</td>\n",
       "      <td>너무 좋은 영화에요 이런 영화를 만들어주셔서 감사합니다</td>\n",
       "      <td>1</td>\n",
       "    </tr>\n",
       "  </tbody>\n",
       "</table>\n",
       "</div>"
      ],
      "text/plain": [
       "      star                                            comment  label\n",
       "5255     8  눈이 즐거운 영화. 그런데 잡지 내용을 글로 읽느라 미장센을 다 즐기지 못해서 아쉬...      1\n",
       "2646     8                             자아실현이 필요한 아줌마들의 힐링 영화.      1\n",
       "2862    10                                진짜 울면서 봤습니다 너무 재밌어요      1\n",
       "1600     9                                   1편에는 못따라가지만 재밌었음      1\n",
       "8669     5  양아치와 건달의 싸움. 재미있게 봤음. 주조연과 단역의 연기는 좋았는데,당최 왜 장...      0\n",
       "6595    10  전 재미있게 봤네요.   ㅎㅎ대사도 좋고...\"아직 오지 않은 것을 기다리며 알 수...      1\n",
       "1110     7                   좀 졸았지만 영화는 정말 예쁘다 마지막 애니메이션이 좋았음      1\n",
       "6592    10                                진짜 재밋게봤음 음악스토리영상다좋음      1\n",
       "4689    10  오랜만에 새로운 국산 애니가 나온 소식을 접하게 되어 매우 기쁜 것 같습니다. 몇 ...      1\n",
       "2552    10                     너무 좋은 영화에요 이런 영화를 만들어주셔서 감사합니다      1"
      ]
     },
     "execution_count": 11,
     "metadata": {},
     "output_type": "execute_result"
    }
   ],
   "source": [
    "# 데이터 합치고 필요없는 column 제거\n",
    "df = pd.concat([data_pos,data_neg], ignore_index=True)\n",
    "df.sample(10)"
   ]
  },
  {
   "cell_type": "code",
   "execution_count": 12,
   "metadata": {},
   "outputs": [
    {
     "name": "stdout",
     "output_type": "stream",
     "text": [
      "1    6924\n",
      "0    3066\n",
      "Name: label, dtype: int64\n"
     ]
    },
    {
     "data": {
      "image/png": "[encoded data removed]",
      "text/plain": [
       "<Figure size 432x288 with 1 Axes>"
      ]
     },
     "metadata": {
      "needs_background": "light"
     },
     "output_type": "display_data"
    }
   ],
   "source": [
    "# label 비율 확인, 불균형은 SMOTE로 해겷기\n",
    "df['label'].value_counts().plot.bar()\n",
    "print(df['label'].value_counts())"
   ]
  },
  {
   "cell_type": "markdown",
   "metadata": {},
   "source": [
    "## Preprocessing"
   ]
  },
  {
   "cell_type": "code",
   "execution_count": 13,
   "metadata": {},
   "outputs": [
    {
     "data": {
      "text/plain": [
       "star       0\n",
       "comment    0\n",
       "label      0\n",
       "dtype: int64"
      ]
     },
     "execution_count": 13,
     "metadata": {},
     "output_type": "execute_result"
    }
   ],
   "source": [
    "# NA 확인\n",
    "df.isna().sum()"
   ]
  },
  {
   "cell_type": "code",
   "execution_count": 14,
   "metadata": {},
   "outputs": [
    {
     "data": {
      "text/html": [
       "<div>\n",
       "<style scoped>\n",
       "    .dataframe tbody tr th:only-of-type {\n",
       "        vertical-align: middle;\n",
       "    }\n",
       "\n",
       "    .dataframe tbody tr th {\n",
       "        vertical-align: top;\n",
       "    }\n",
       "\n",
       "    .dataframe thead th {\n",
       "        text-align: right;\n",
       "    }\n",
       "</style>\n",
       "<table border=\"1\" class=\"dataframe\">\n",
       "  <thead>\n",
       "    <tr style=\"text-align: right;\">\n",
       "      <th></th>\n",
       "      <th>star</th>\n",
       "      <th>comment</th>\n",
       "      <th>label</th>\n",
       "    </tr>\n",
       "  </thead>\n",
       "  <tbody>\n",
       "    <tr>\n",
       "      <th>8257</th>\n",
       "      <td>1</td>\n",
       "      <td>재미있게 잘 봤습니다.</td>\n",
       "      <td>0</td>\n",
       "    </tr>\n",
       "    <tr>\n",
       "      <th>9236</th>\n",
       "      <td>4</td>\n",
       "      <td>나쁜거부터 배우는 AI 발상까진 좋았으나 무리한 설정과 허술한 전개로 많은 아쉬움을...</td>\n",
       "      <td>0</td>\n",
       "    </tr>\n",
       "    <tr>\n",
       "      <th>3487</th>\n",
       "      <td>9</td>\n",
       "      <td>내가 나름 sf 매니아인데 이영화 보통이 아님...기억에 남는 작품</td>\n",
       "      <td>1</td>\n",
       "    </tr>\n",
       "    <tr>\n",
       "      <th>1912</th>\n",
       "      <td>10</td>\n",
       "      <td>와 지금봐도 명작이다..</td>\n",
       "      <td>1</td>\n",
       "    </tr>\n",
       "    <tr>\n",
       "      <th>25</th>\n",
       "      <td>10</td>\n",
       "      <td>묘한 매력이 있는 영화 매력적인 여배우</td>\n",
       "      <td>1</td>\n",
       "    </tr>\n",
       "    <tr>\n",
       "      <th>2747</th>\n",
       "      <td>7</td>\n",
       "      <td>돌아가야만 했던 한 군인의 처절한 생존기</td>\n",
       "      <td>1</td>\n",
       "    </tr>\n",
       "    <tr>\n",
       "      <th>5985</th>\n",
       "      <td>10</td>\n",
       "      <td>이렇게  오랬동안  기억이 남고  인상깊었던  영화는  이게처음 이었다</td>\n",
       "      <td>1</td>\n",
       "    </tr>\n",
       "    <tr>\n",
       "      <th>2928</th>\n",
       "      <td>8</td>\n",
       "      <td>명대사 제조기 최동훈 감독의 신화는 이 영화에서 시작되었다</td>\n",
       "      <td>1</td>\n",
       "    </tr>\n",
       "    <tr>\n",
       "      <th>1355</th>\n",
       "      <td>8</td>\n",
       "      <td>ost 너무 좋다... 앙상블도 훌륭함</td>\n",
       "      <td>1</td>\n",
       "    </tr>\n",
       "    <tr>\n",
       "      <th>6946</th>\n",
       "      <td>2</td>\n",
       "      <td>최악입니다 시간아까워요</td>\n",
       "      <td>0</td>\n",
       "    </tr>\n",
       "  </tbody>\n",
       "</table>\n",
       "</div>"
      ],
      "text/plain": [
       "      star                                            comment  label\n",
       "8257     1                                       재미있게 잘 봤습니다.      0\n",
       "9236     4  나쁜거부터 배우는 AI 발상까진 좋았으나 무리한 설정과 허술한 전개로 많은 아쉬움을...      0\n",
       "3487     9              내가 나름 sf 매니아인데 이영화 보통이 아님...기억에 남는 작품      1\n",
       "1912    10                                      와 지금봐도 명작이다..      1\n",
       "25      10                              묘한 매력이 있는 영화 매력적인 여배우      1\n",
       "2747     7                             돌아가야만 했던 한 군인의 처절한 생존기      1\n",
       "5985    10            이렇게  오랬동안  기억이 남고  인상깊었던  영화는  이게처음 이었다      1\n",
       "2928     8                   명대사 제조기 최동훈 감독의 신화는 이 영화에서 시작되었다      1\n",
       "1355     8                              ost 너무 좋다... 앙상블도 훌륭함      1\n",
       "6946     2                                       최악입니다 시간아까워요      0"
      ]
     },
     "execution_count": 14,
     "metadata": {},
     "output_type": "execute_result"
    }
   ],
   "source": [
    "# comment가 없는 경우 제외\n",
    "df = df[df['comment']!='']\n",
    "df.sample(10)"
   ]
  },
  {
   "cell_type": "code",
   "execution_count": 15,
   "metadata": {},
   "outputs": [
    {
     "name": "stderr",
     "output_type": "stream",
     "text": [
      "C:\\Users\\User\\AppData\\Local\\Temp/ipykernel_18948/2958532500.py:2: FutureWarning: The default value of regex will change from True to False in a future version.\n",
      "  df['comment'] = df['comment'].str.replace(\"[^ㄱ-ㅎㅏ-ㅣ가-힣 ]\",\"\")\n"
     ]
    },
    {
     "data": {
      "text/html": [
       "<div>\n",
       "<style scoped>\n",
       "    .dataframe tbody tr th:only-of-type {\n",
       "        vertical-align: middle;\n",
       "    }\n",
       "\n",
       "    .dataframe tbody tr th {\n",
       "        vertical-align: top;\n",
       "    }\n",
       "\n",
       "    .dataframe thead th {\n",
       "        text-align: right;\n",
       "    }\n",
       "</style>\n",
       "<table border=\"1\" class=\"dataframe\">\n",
       "  <thead>\n",
       "    <tr style=\"text-align: right;\">\n",
       "      <th></th>\n",
       "      <th>star</th>\n",
       "      <th>comment</th>\n",
       "      <th>label</th>\n",
       "    </tr>\n",
       "  </thead>\n",
       "  <tbody>\n",
       "    <tr>\n",
       "      <th>2680</th>\n",
       "      <td>7</td>\n",
       "      <td>성공한 영화감독이 자신의 옛이야기를 들려주며 고향에 은혜를 갚다</td>\n",
       "      <td>1</td>\n",
       "    </tr>\n",
       "    <tr>\n",
       "      <th>1945</th>\n",
       "      <td>10</td>\n",
       "      <td>김래원 연기 잘하네요</td>\n",
       "      <td>1</td>\n",
       "    </tr>\n",
       "    <tr>\n",
       "      <th>2858</th>\n",
       "      <td>10</td>\n",
       "      <td>나도 되돌아갈 힘을 남겨두지 않을정도로 어딘가에 몰입하고 싶다</td>\n",
       "      <td>1</td>\n",
       "    </tr>\n",
       "    <tr>\n",
       "      <th>3368</th>\n",
       "      <td>10</td>\n",
       "      <td>내 인생영화 절대 못 잊을거 같당 ㅠㅠㅠ</td>\n",
       "      <td>1</td>\n",
       "    </tr>\n",
       "    <tr>\n",
       "      <th>4560</th>\n",
       "      <td>10</td>\n",
       "      <td>영화가 매력이 넘치네요 스토리도 매력 넘치고여주들도 매력 넘치고 추천드립니다</td>\n",
       "      <td>1</td>\n",
       "    </tr>\n",
       "  </tbody>\n",
       "</table>\n",
       "</div>"
      ],
      "text/plain": [
       "      star                                     comment  label\n",
       "2680     7         성공한 영화감독이 자신의 옛이야기를 들려주며 고향에 은혜를 갚다      1\n",
       "1945    10                                 김래원 연기 잘하네요      1\n",
       "2858    10          나도 되돌아갈 힘을 남겨두지 않을정도로 어딘가에 몰입하고 싶다      1\n",
       "3368    10                      내 인생영화 절대 못 잊을거 같당 ㅠㅠㅠ      1\n",
       "4560    10  영화가 매력이 넘치네요 스토리도 매력 넘치고여주들도 매력 넘치고 추천드립니다      1"
      ]
     },
     "execution_count": 15,
     "metadata": {},
     "output_type": "execute_result"
    }
   ],
   "source": [
    "# 한글,공백 제외하고 제거\n",
    "df['comment'] = df['comment'].str.replace(\"[^ㄱ-ㅎㅏ-ㅣ가-힣 ]\",\"\")\n",
    "df.sample(5)"
   ]
  },
  {
   "cell_type": "code",
   "execution_count": 20,
   "metadata": {},
   "outputs": [],
   "source": [
    "df.to_csv('crawling_review.csv')"
   ]
  },
  {
   "cell_type": "markdown",
   "metadata": {},
   "source": [
    "### Stopword"
   ]
  },
  {
   "cell_type": "code",
   "execution_count": 16,
   "metadata": {},
   "outputs": [
    {
     "name": "stdout",
     "output_type": "stream",
     "text": [
      "['아', '휴', '아이구', '아이쿠', '아이고']\n"
     ]
    }
   ],
   "source": [
    "# https://www.ranks.nl/stopwords/korean\n",
    "stopword = pd.read_csv('stopword.csv')\n",
    "stopword = list(stopword['stopdword'].values)\n",
    "print(stopword[:5])"
   ]
  }
 ],
 "metadata": {
  "interpreter": {
   "hash": "0be24c33af7446dafa391074f2280be7d3113abbd9fa0fd6b60ea42f0333b281"
  },
  "kernelspec": {
   "display_name": "Python 3.8.12 64-bit ('movie_review': conda)",
   "language": "python",
   "name": "python3"
  },
  "language_info": {
   "codemirror_mode": {
    "name": "ipython",
    "version": 3
   },
   "file_extension": ".py",
   "mimetype": "text/x-python",
   "name": "python",
   "nbconvert_exporter": "python",
   "pygments_lexer": "ipython3",
   "version": "3.8.12"
  },
  "orig_nbformat": 4
 },
 "nbformat": 4,
 "nbformat_minor": 2
}
