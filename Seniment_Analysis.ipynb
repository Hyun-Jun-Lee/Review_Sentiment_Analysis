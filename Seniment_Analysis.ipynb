{
 "cells": [
  {
   "cell_type": "code",
   "execution_count": 23,
   "metadata": {},
   "outputs": [],
   "source": [
    "import pandas as pd\n",
    "import pymongo\n",
    "import matplotlib.pyplot as plt"
   ]
  },
  {
   "cell_type": "markdown",
   "metadata": {},
   "source": [
    "## MongoDB to DataFrame"
   ]
  },
  {
   "cell_type": "code",
   "execution_count": 26,
   "metadata": {},
   "outputs": [],
   "source": [
    "# Mongodb 불러오기\n",
    "import pymongo\n",
    "\n",
    "# mongodb 연결\n",
    "conn = pymongo.MongoClient()\n",
    "\n",
    "# DB접근\n",
    "db = conn['crawling_review']\n",
    "\n",
    "# collection 접근\n",
    "collection = db['movies']"
   ]
  },
  {
   "cell_type": "code",
   "execution_count": 43,
   "metadata": {},
   "outputs": [
    {
     "data": {
      "text/html": [
       "<div>\n",
       "<style scoped>\n",
       "    .dataframe tbody tr th:only-of-type {\n",
       "        vertical-align: middle;\n",
       "    }\n",
       "\n",
       "    .dataframe tbody tr th {\n",
       "        vertical-align: top;\n",
       "    }\n",
       "\n",
       "    .dataframe thead th {\n",
       "        text-align: right;\n",
       "    }\n",
       "</style>\n",
       "<table border=\"1\" class=\"dataframe\">\n",
       "  <thead>\n",
       "    <tr style=\"text-align: right;\">\n",
       "      <th></th>\n",
       "      <th>star</th>\n",
       "      <th>comment</th>\n",
       "    </tr>\n",
       "  </thead>\n",
       "  <tbody>\n",
       "    <tr>\n",
       "      <th>9437</th>\n",
       "      <td>10</td>\n",
       "      <td>ㅈㄴ재밋노명작이다 무조건봐야하노</td>\n",
       "    </tr>\n",
       "    <tr>\n",
       "      <th>4731</th>\n",
       "      <td>1</td>\n",
       "      <td>갑자기 도게자 ㄹㅇㅋㅋ</td>\n",
       "    </tr>\n",
       "    <tr>\n",
       "      <th>659</th>\n",
       "      <td>10</td>\n",
       "      <td>야만의 시대를 잘 고증했다. 재미 있는 것은 진실을 밝히자는 영화가 아니다. 당시의...</td>\n",
       "    </tr>\n",
       "    <tr>\n",
       "      <th>1270</th>\n",
       "      <td>10</td>\n",
       "      <td></td>\n",
       "    </tr>\n",
       "    <tr>\n",
       "      <th>7449</th>\n",
       "      <td>9</td>\n",
       "      <td>고스트 버스터즈 속 장면들을 오마주한 장면들도 가득해 찾아보는 재미도 쏠쏠~</td>\n",
       "    </tr>\n",
       "    <tr>\n",
       "      <th>5271</th>\n",
       "      <td>10</td>\n",
       "      <td>7000년을 낭비하는 이터널즈와14000년을 기막히게 사용하는 맨 프럼 어스</td>\n",
       "    </tr>\n",
       "    <tr>\n",
       "      <th>3760</th>\n",
       "      <td>8</td>\n",
       "      <td>왜 재미없다고 한건지;; 괜찮게 본영화유체이탈이 되는 이유가 억지스럽긴함</td>\n",
       "    </tr>\n",
       "    <tr>\n",
       "      <th>1832</th>\n",
       "      <td>10</td>\n",
       "      <td>80년도에나 나왓어야 할 영화감독이 신세계 범죄도시 팬인듯 ㅋ</td>\n",
       "    </tr>\n",
       "    <tr>\n",
       "      <th>9597</th>\n",
       "      <td>1</td>\n",
       "      <td>돈 아까워욥.. 재미업ㄱ음</td>\n",
       "    </tr>\n",
       "    <tr>\n",
       "      <th>7006</th>\n",
       "      <td>10</td>\n",
       "      <td>재밌었어요 기대이상이였어요! 초반에는 살짝 지루하지만 중반부터 액션 보는 재미가 있...</td>\n",
       "    </tr>\n",
       "  </tbody>\n",
       "</table>\n",
       "</div>"
      ],
      "text/plain": [
       "     star                                            comment\n",
       "9437   10                                  ㅈㄴ재밋노명작이다 무조건봐야하노\n",
       "4731    1                                       갑자기 도게자 ㄹㅇㅋㅋ\n",
       "659    10  야만의 시대를 잘 고증했다. 재미 있는 것은 진실을 밝히자는 영화가 아니다. 당시의...\n",
       "1270   10                                                   \n",
       "7449    9         고스트 버스터즈 속 장면들을 오마주한 장면들도 가득해 찾아보는 재미도 쏠쏠~\n",
       "5271   10         7000년을 낭비하는 이터널즈와14000년을 기막히게 사용하는 맨 프럼 어스\n",
       "3760    8           왜 재미없다고 한건지;; 괜찮게 본영화유체이탈이 되는 이유가 억지스럽긴함\n",
       "1832   10                 80년도에나 나왓어야 할 영화감독이 신세계 범죄도시 팬인듯 ㅋ\n",
       "9597    1                                     돈 아까워욥.. 재미업ㄱ음\n",
       "7006   10  재밌었어요 기대이상이였어요! 초반에는 살짝 지루하지만 중반부터 액션 보는 재미가 있..."
      ]
     },
     "execution_count": 43,
     "metadata": {},
     "output_type": "execute_result"
    }
   ],
   "source": [
    "# DataFrame\n",
    "doc = collection.find_one()\n",
    "data = pd.DataFrame(doc, columns=['star','comment'])\n",
    "data.sample(10)"
   ]
  },
  {
   "cell_type": "code",
   "execution_count": 46,
   "metadata": {},
   "outputs": [
    {
     "name": "stdout",
     "output_type": "stream",
     "text": [
      "<class 'pandas.core.frame.DataFrame'>\n",
      "RangeIndex: 9990 entries, 0 to 9989\n",
      "Data columns (total 2 columns):\n",
      " #   Column   Non-Null Count  Dtype \n",
      "---  ------   --------------  ----- \n",
      " 0   star     9990 non-null   object\n",
      " 1   comment  9990 non-null   object\n",
      "dtypes: object(2)\n",
      "memory usage: 156.2+ KB\n"
     ]
    }
   ],
   "source": [
    "data.info()"
   ]
  },
  {
   "cell_type": "code",
   "execution_count": 56,
   "metadata": {},
   "outputs": [
    {
     "data": {
      "text/plain": [
       "star        int32\n",
       "comment    object\n",
       "dtype: object"
      ]
     },
     "execution_count": 56,
     "metadata": {},
     "output_type": "execute_result"
    }
   ],
   "source": [
    "# data tpye 변경\n",
    "data = data.astype({'star':'int'})\n",
    "data.dtypes"
   ]
  },
  {
   "cell_type": "markdown",
   "metadata": {},
   "source": [
    "## label 설정"
   ]
  },
  {
   "cell_type": "code",
   "execution_count": 57,
   "metadata": {},
   "outputs": [
    {
     "name": "stderr",
     "output_type": "stream",
     "text": [
      "C:\\Users\\User\\AppData\\Local\\Temp/ipykernel_19796/2313997164.py:3: SettingWithCopyWarning: \n",
      "A value is trying to be set on a copy of a slice from a DataFrame.\n",
      "Try using .loc[row_indexer,col_indexer] = value instead\n",
      "\n",
      "See the caveats in the documentation: https://pandas.pydata.org/pandas-docs/stable/user_guide/indexing.html#returning-a-view-versus-a-copy\n",
      "  data_pos['label'] = 1\n"
     ]
    },
    {
     "data": {
      "text/html": [
       "<div>\n",
       "<style scoped>\n",
       "    .dataframe tbody tr th:only-of-type {\n",
       "        vertical-align: middle;\n",
       "    }\n",
       "\n",
       "    .dataframe tbody tr th {\n",
       "        vertical-align: top;\n",
       "    }\n",
       "\n",
       "    .dataframe thead th {\n",
       "        text-align: right;\n",
       "    }\n",
       "</style>\n",
       "<table border=\"1\" class=\"dataframe\">\n",
       "  <thead>\n",
       "    <tr style=\"text-align: right;\">\n",
       "      <th></th>\n",
       "      <th>star</th>\n",
       "      <th>comment</th>\n",
       "      <th>label</th>\n",
       "    </tr>\n",
       "  </thead>\n",
       "  <tbody>\n",
       "    <tr>\n",
       "      <th>0</th>\n",
       "      <td>10</td>\n",
       "      <td>평점이 낮아서 안보려다 봤는데 보길 정말 잘했슴ㄷㅏ.저는 지루하지않았고 후반부로 갈...</td>\n",
       "      <td>1</td>\n",
       "    </tr>\n",
       "    <tr>\n",
       "      <th>1</th>\n",
       "      <td>10</td>\n",
       "      <td>가슴 시리도록 기억에 오래 남을 영화. 공유 전도연의 연기는.. 잊혀지지 않을 것 ...</td>\n",
       "      <td>1</td>\n",
       "    </tr>\n",
       "    <tr>\n",
       "      <th>3</th>\n",
       "      <td>9</td>\n",
       "      <td>우리가 자라고 우리가 사랑을 하고 우리가 결혼을 하고 우리가 아이를 키우고 우리가 ...</td>\n",
       "      <td>1</td>\n",
       "    </tr>\n",
       "    <tr>\n",
       "      <th>5</th>\n",
       "      <td>7</td>\n",
       "      <td>믿고보는 황정밋 배우!!</td>\n",
       "      <td>1</td>\n",
       "    </tr>\n",
       "    <tr>\n",
       "      <th>8</th>\n",
       "      <td>10</td>\n",
       "      <td>으악 ㅋㅋ 너무무서웠어요 ㅠㅠ</td>\n",
       "      <td>1</td>\n",
       "    </tr>\n",
       "    <tr>\n",
       "      <th>...</th>\n",
       "      <td>...</td>\n",
       "      <td>...</td>\n",
       "      <td>...</td>\n",
       "    </tr>\n",
       "    <tr>\n",
       "      <th>9981</th>\n",
       "      <td>10</td>\n",
       "      <td>굿굿 ㅅ평점왜이러지?</td>\n",
       "      <td>1</td>\n",
       "    </tr>\n",
       "    <tr>\n",
       "      <th>9983</th>\n",
       "      <td>10</td>\n",
       "      <td>참신한 주제와 훌륭한 배우들과 연출 좋았습니다 몰입해서 잘 봤어요</td>\n",
       "      <td>1</td>\n",
       "    </tr>\n",
       "    <tr>\n",
       "      <th>9986</th>\n",
       "      <td>7</td>\n",
       "      <td>로맨스 영화를 가장한 SF물이라서 뭔가 아쉬움이 남는 영화.개봉당시 포스터만 봐도 ...</td>\n",
       "      <td>1</td>\n",
       "    </tr>\n",
       "    <tr>\n",
       "      <th>9987</th>\n",
       "      <td>10</td>\n",
       "      <td>연출, 연기 다 좋습니다</td>\n",
       "      <td>1</td>\n",
       "    </tr>\n",
       "    <tr>\n",
       "      <th>9989</th>\n",
       "      <td>8</td>\n",
       "      <td>와 진짜 영화 보는내내 언제 어떻게 공격을 받을지 모르니까계속 심장 쫄리고 긴장한 ...</td>\n",
       "      <td>1</td>\n",
       "    </tr>\n",
       "  </tbody>\n",
       "</table>\n",
       "<p>6924 rows × 3 columns</p>\n",
       "</div>"
      ],
      "text/plain": [
       "      star                                            comment  label\n",
       "0       10  평점이 낮아서 안보려다 봤는데 보길 정말 잘했슴ㄷㅏ.저는 지루하지않았고 후반부로 갈...      1\n",
       "1       10  가슴 시리도록 기억에 오래 남을 영화. 공유 전도연의 연기는.. 잊혀지지 않을 것 ...      1\n",
       "3        9  우리가 자라고 우리가 사랑을 하고 우리가 결혼을 하고 우리가 아이를 키우고 우리가 ...      1\n",
       "5        7                                      믿고보는 황정밋 배우!!      1\n",
       "8       10                                   으악 ㅋㅋ 너무무서웠어요 ㅠㅠ      1\n",
       "...    ...                                                ...    ...\n",
       "9981    10                                        굿굿 ㅅ평점왜이러지?      1\n",
       "9983    10               참신한 주제와 훌륭한 배우들과 연출 좋았습니다 몰입해서 잘 봤어요      1\n",
       "9986     7  로맨스 영화를 가장한 SF물이라서 뭔가 아쉬움이 남는 영화.개봉당시 포스터만 봐도 ...      1\n",
       "9987    10                                      연출, 연기 다 좋습니다      1\n",
       "9989     8  와 진짜 영화 보는내내 언제 어떻게 공격을 받을지 모르니까계속 심장 쫄리고 긴장한 ...      1\n",
       "\n",
       "[6924 rows x 3 columns]"
      ]
     },
     "execution_count": 57,
     "metadata": {},
     "output_type": "execute_result"
    }
   ],
   "source": [
    "# 평점 7 이상 = 긍정(1)\n",
    "data_pos = data[data['star']>=7]\n",
    "data_pos['label'] = 1\n",
    "data_pos"
   ]
  },
  {
   "cell_type": "code",
   "execution_count": 59,
   "metadata": {},
   "outputs": [
    {
     "name": "stderr",
     "output_type": "stream",
     "text": [
      "C:\\Users\\User\\AppData\\Local\\Temp/ipykernel_19796/1242165523.py:3: SettingWithCopyWarning: \n",
      "A value is trying to be set on a copy of a slice from a DataFrame.\n",
      "Try using .loc[row_indexer,col_indexer] = value instead\n",
      "\n",
      "See the caveats in the documentation: https://pandas.pydata.org/pandas-docs/stable/user_guide/indexing.html#returning-a-view-versus-a-copy\n",
      "  data_neg['label'] = 0\n"
     ]
    },
    {
     "data": {
      "text/html": [
       "<div>\n",
       "<style scoped>\n",
       "    .dataframe tbody tr th:only-of-type {\n",
       "        vertical-align: middle;\n",
       "    }\n",
       "\n",
       "    .dataframe tbody tr th {\n",
       "        vertical-align: top;\n",
       "    }\n",
       "\n",
       "    .dataframe thead th {\n",
       "        text-align: right;\n",
       "    }\n",
       "</style>\n",
       "<table border=\"1\" class=\"dataframe\">\n",
       "  <thead>\n",
       "    <tr style=\"text-align: right;\">\n",
       "      <th></th>\n",
       "      <th>star</th>\n",
       "      <th>comment</th>\n",
       "      <th>label</th>\n",
       "    </tr>\n",
       "  </thead>\n",
       "  <tbody>\n",
       "    <tr>\n",
       "      <th>2</th>\n",
       "      <td>1</td>\n",
       "      <td>대체... 이게 뭐죠?</td>\n",
       "      <td>0</td>\n",
       "    </tr>\n",
       "    <tr>\n",
       "      <th>4</th>\n",
       "      <td>1</td>\n",
       "      <td>보는 내가 유체이탈할뻔 보다가 나온 영화는 처음임답답하고 주인공 본인도 몰라 답답한...</td>\n",
       "      <td>0</td>\n",
       "    </tr>\n",
       "    <tr>\n",
       "      <th>6</th>\n",
       "      <td>1</td>\n",
       "      <td>고양이가 그렇게 불쌍하시면 데려가서 키우세요. 집없이 밖에서 벌벌떠는 고양이들이 불...</td>\n",
       "      <td>0</td>\n",
       "    </tr>\n",
       "    <tr>\n",
       "      <th>7</th>\n",
       "      <td>2</td>\n",
       "      <td>연출 연기 스토리 전부 잘못된 영화</td>\n",
       "      <td>0</td>\n",
       "    </tr>\n",
       "    <tr>\n",
       "      <th>9</th>\n",
       "      <td>1</td>\n",
       "      <td>중국 자본인 게 너무 티나서 아쉽다.</td>\n",
       "      <td>0</td>\n",
       "    </tr>\n",
       "    <tr>\n",
       "      <th>...</th>\n",
       "      <td>...</td>\n",
       "      <td>...</td>\n",
       "      <td>...</td>\n",
       "    </tr>\n",
       "    <tr>\n",
       "      <th>9980</th>\n",
       "      <td>5</td>\n",
       "      <td>재미없음</td>\n",
       "      <td>0</td>\n",
       "    </tr>\n",
       "    <tr>\n",
       "      <th>9982</th>\n",
       "      <td>3</td>\n",
       "      <td>필름을 드라마 찍을때 사용하는 방식으로 찍엇노??? 장혁,유오성 너무 아깝다. 감독...</td>\n",
       "      <td>0</td>\n",
       "    </tr>\n",
       "    <tr>\n",
       "      <th>9984</th>\n",
       "      <td>4</td>\n",
       "      <td>강원도사투리가 넘쎄서 영화스타일이랑 안어울림.  뭐라고하는지 원...</td>\n",
       "      <td>0</td>\n",
       "    </tr>\n",
       "    <tr>\n",
       "      <th>9985</th>\n",
       "      <td>6</td>\n",
       "      <td>님의 하드캐리</td>\n",
       "      <td>0</td>\n",
       "    </tr>\n",
       "    <tr>\n",
       "      <th>9988</th>\n",
       "      <td>6</td>\n",
       "      <td>아저씨+뷰티인사이드</td>\n",
       "      <td>0</td>\n",
       "    </tr>\n",
       "  </tbody>\n",
       "</table>\n",
       "<p>3066 rows × 3 columns</p>\n",
       "</div>"
      ],
      "text/plain": [
       "      star                                            comment  label\n",
       "2        1                                       대체... 이게 뭐죠?      0\n",
       "4        1  보는 내가 유체이탈할뻔 보다가 나온 영화는 처음임답답하고 주인공 본인도 몰라 답답한...      0\n",
       "6        1  고양이가 그렇게 불쌍하시면 데려가서 키우세요. 집없이 밖에서 벌벌떠는 고양이들이 불...      0\n",
       "7        2                                연출 연기 스토리 전부 잘못된 영화      0\n",
       "9        1                               중국 자본인 게 너무 티나서 아쉽다.      0\n",
       "...    ...                                                ...    ...\n",
       "9980     5                                               재미없음      0\n",
       "9982     3  필름을 드라마 찍을때 사용하는 방식으로 찍엇노??? 장혁,유오성 너무 아깝다. 감독...      0\n",
       "9984     4             강원도사투리가 넘쎄서 영화스타일이랑 안어울림.  뭐라고하는지 원...      0\n",
       "9985     6                                            님의 하드캐리      0\n",
       "9988     6                                         아저씨+뷰티인사이드      0\n",
       "\n",
       "[3066 rows x 3 columns]"
      ]
     },
     "execution_count": 59,
     "metadata": {},
     "output_type": "execute_result"
    }
   ],
   "source": [
    "# 평점 6 이하 = 부정(0)\n",
    "data_neg = data[data['star']<7]\n",
    "data_neg['label'] = 0\n",
    "data_neg"
   ]
  },
  {
   "cell_type": "code",
   "execution_count": 64,
   "metadata": {},
   "outputs": [
    {
     "data": {
      "text/html": [
       "<div>\n",
       "<style scoped>\n",
       "    .dataframe tbody tr th:only-of-type {\n",
       "        vertical-align: middle;\n",
       "    }\n",
       "\n",
       "    .dataframe tbody tr th {\n",
       "        vertical-align: top;\n",
       "    }\n",
       "\n",
       "    .dataframe thead th {\n",
       "        text-align: right;\n",
       "    }\n",
       "</style>\n",
       "<table border=\"1\" class=\"dataframe\">\n",
       "  <thead>\n",
       "    <tr style=\"text-align: right;\">\n",
       "      <th></th>\n",
       "      <th>star</th>\n",
       "      <th>comment</th>\n",
       "      <th>label</th>\n",
       "    </tr>\n",
       "  </thead>\n",
       "  <tbody>\n",
       "    <tr>\n",
       "      <th>7551</th>\n",
       "      <td>5</td>\n",
       "      <td>흠… 최근본 디즈니영화중에는 제일 별로였다 뭔가 딱히 재미가없었음…하지만 화려한 색...</td>\n",
       "      <td>0</td>\n",
       "    </tr>\n",
       "    <tr>\n",
       "      <th>7049</th>\n",
       "      <td>1</td>\n",
       "      <td>이채영배우 팬인데 애초에 이딴 4류 웹툰을 왜 영화화 하기로 했는지도 의문이고 영화...</td>\n",
       "      <td>0</td>\n",
       "    </tr>\n",
       "    <tr>\n",
       "      <th>6057</th>\n",
       "      <td>10</td>\n",
       "      <td>120시간 일해야 한다는 사람이 꼭 봐야할 영화. 한 사람의 희생으로 결국은 나 또...</td>\n",
       "      <td>1</td>\n",
       "    </tr>\n",
       "    <tr>\n",
       "      <th>2193</th>\n",
       "      <td>10</td>\n",
       "      <td>어린이 영화 맞냐?</td>\n",
       "      <td>1</td>\n",
       "    </tr>\n",
       "    <tr>\n",
       "      <th>3350</th>\n",
       "      <td>10</td>\n",
       "      <td>말이 되고 안되고는 문제되지 않는다. 너무 아름다운 영화다.</td>\n",
       "      <td>1</td>\n",
       "    </tr>\n",
       "    <tr>\n",
       "      <th>6986</th>\n",
       "      <td>1</td>\n",
       "      <td>납치범이 사람 때릴 줄만 알고, 머리는 원체 쓰질 않음</td>\n",
       "      <td>0</td>\n",
       "    </tr>\n",
       "    <tr>\n",
       "      <th>5359</th>\n",
       "      <td>8</td>\n",
       "      <td>보는 내내 \"대체 무슨 내용이지?\" 하다가 막판에 치솟는 전율 ㄷㄷ 다시 보면 감상...</td>\n",
       "      <td>1</td>\n",
       "    </tr>\n",
       "    <tr>\n",
       "      <th>314</th>\n",
       "      <td>8</td>\n",
       "      <td>이 배우들이 다 나온다고? 캐스팅에 놀람</td>\n",
       "      <td>1</td>\n",
       "    </tr>\n",
       "    <tr>\n",
       "      <th>6627</th>\n",
       "      <td>10</td>\n",
       "      <td>의무감으로라도 봐야한다</td>\n",
       "      <td>1</td>\n",
       "    </tr>\n",
       "    <tr>\n",
       "      <th>8887</th>\n",
       "      <td>2</td>\n",
       "      <td>알바들 많이 썻구먼.. 정말 재미없네 보지마삼 ㅜㅜ</td>\n",
       "      <td>0</td>\n",
       "    </tr>\n",
       "  </tbody>\n",
       "</table>\n",
       "</div>"
      ],
      "text/plain": [
       "      star                                            comment  label\n",
       "7551     5  흠… 최근본 디즈니영화중에는 제일 별로였다 뭔가 딱히 재미가없었음…하지만 화려한 색...      0\n",
       "7049     1  이채영배우 팬인데 애초에 이딴 4류 웹툰을 왜 영화화 하기로 했는지도 의문이고 영화...      0\n",
       "6057    10  120시간 일해야 한다는 사람이 꼭 봐야할 영화. 한 사람의 희생으로 결국은 나 또...      1\n",
       "2193    10                                         어린이 영화 맞냐?      1\n",
       "3350    10                  말이 되고 안되고는 문제되지 않는다. 너무 아름다운 영화다.      1\n",
       "6986     1                     납치범이 사람 때릴 줄만 알고, 머리는 원체 쓰질 않음      0\n",
       "5359     8  보는 내내 \"대체 무슨 내용이지?\" 하다가 막판에 치솟는 전율 ㄷㄷ 다시 보면 감상...      1\n",
       "314      8                             이 배우들이 다 나온다고? 캐스팅에 놀람      1\n",
       "6627    10                                       의무감으로라도 봐야한다      1\n",
       "8887     2                       알바들 많이 썻구먼.. 정말 재미없네 보지마삼 ㅜㅜ      0"
      ]
     },
     "execution_count": 64,
     "metadata": {},
     "output_type": "execute_result"
    }
   ],
   "source": [
    "# 데이터 합치고 필요없는 column 제거\n",
    "df = pd.concat([data_pos,data_neg], ignore_index=True)\n",
    "df.sample(10)"
   ]
  },
  {
   "cell_type": "code",
   "execution_count": 67,
   "metadata": {},
   "outputs": [
    {
     "name": "stdout",
     "output_type": "stream",
     "text": [
      "1    6924\n",
      "0    3066\n",
      "Name: label, dtype: int64\n"
     ]
    },
    {
     "data": {
      "image/png": "[encoded data removed]",
      "text/plain": [
       "<Figure size 432x288 with 1 Axes>"
      ]
     },
     "metadata": {
      "needs_background": "light"
     },
     "output_type": "display_data"
    }
   ],
   "source": [
    "# label 비율 확인, 불균형은 SMOTE로 해겷기\n",
    "df['label'].value_counts().plot.bar()\n",
    "print(df['label'].value_counts())"
   ]
  },
  {
   "cell_type": "markdown",
   "metadata": {},
   "source": [
    "## Preprocessing"
   ]
  },
  {
   "cell_type": "code",
   "execution_count": 75,
   "metadata": {},
   "outputs": [
    {
     "data": {
      "text/plain": [
       "star       0\n",
       "comment    0\n",
       "label      0\n",
       "dtype: int64"
      ]
     },
     "execution_count": 75,
     "metadata": {},
     "output_type": "execute_result"
    }
   ],
   "source": [
    "# NA 확인\n",
    "df.isna().sum()"
   ]
  },
  {
   "cell_type": "code",
   "execution_count": 77,
   "metadata": {},
   "outputs": [
    {
     "data": {
      "text/html": [
       "<div>\n",
       "<style scoped>\n",
       "    .dataframe tbody tr th:only-of-type {\n",
       "        vertical-align: middle;\n",
       "    }\n",
       "\n",
       "    .dataframe tbody tr th {\n",
       "        vertical-align: top;\n",
       "    }\n",
       "\n",
       "    .dataframe thead th {\n",
       "        text-align: right;\n",
       "    }\n",
       "</style>\n",
       "<table border=\"1\" class=\"dataframe\">\n",
       "  <thead>\n",
       "    <tr style=\"text-align: right;\">\n",
       "      <th></th>\n",
       "      <th>star</th>\n",
       "      <th>comment</th>\n",
       "      <th>label</th>\n",
       "    </tr>\n",
       "  </thead>\n",
       "  <tbody>\n",
       "    <tr>\n",
       "      <th>8621</th>\n",
       "      <td>1</td>\n",
       "      <td>드럽게 재미없음 엄청나게</td>\n",
       "      <td>0</td>\n",
       "    </tr>\n",
       "    <tr>\n",
       "      <th>9129</th>\n",
       "      <td>1</td>\n",
       "      <td>좌빨 만화군구나 ㅡㅡ거른다</td>\n",
       "      <td>0</td>\n",
       "    </tr>\n",
       "    <tr>\n",
       "      <th>5982</th>\n",
       "      <td>7</td>\n",
       "      <td>안야 테일러 조이, 그녀와 '지난밤극장에서' 함께한 지금 이 '순간', 황홀하고 아...</td>\n",
       "      <td>1</td>\n",
       "    </tr>\n",
       "    <tr>\n",
       "      <th>4343</th>\n",
       "      <td>10</td>\n",
       "      <td>감동적이면서 유머가 있고 편견에대한 우리들의 진짜가 무엇인지  말해주는 이야기.</td>\n",
       "      <td>1</td>\n",
       "    </tr>\n",
       "    <tr>\n",
       "      <th>5212</th>\n",
       "      <td>7</td>\n",
       "      <td>볼만한 액션 영화 이거보던 시절이 그립네</td>\n",
       "      <td>1</td>\n",
       "    </tr>\n",
       "    <tr>\n",
       "      <th>9780</th>\n",
       "      <td>1</td>\n",
       "      <td>아무리 생각없이 본다고하지만.. 여성들이 무슨 노리개냐!! 이걸 영화라고 만들다니....</td>\n",
       "      <td>0</td>\n",
       "    </tr>\n",
       "    <tr>\n",
       "      <th>7695</th>\n",
       "      <td>1</td>\n",
       "      <td>그냥 더러운 영화..감독들의 온갖 촌스러운 망상의 향연</td>\n",
       "      <td>0</td>\n",
       "    </tr>\n",
       "    <tr>\n",
       "      <th>5598</th>\n",
       "      <td>10</td>\n",
       "      <td>여운이 정말 많이 남는 영화.. 최고</td>\n",
       "      <td>1</td>\n",
       "    </tr>\n",
       "    <tr>\n",
       "      <th>1510</th>\n",
       "      <td>10</td>\n",
       "      <td>아. 2시간이 순삭되는 몰입의 순간.</td>\n",
       "      <td>1</td>\n",
       "    </tr>\n",
       "    <tr>\n",
       "      <th>801</th>\n",
       "      <td>7</td>\n",
       "      <td>이런류의 영화 많이 좋아하는데아쉬운점도 크고 그래도 볼만은 했다</td>\n",
       "      <td>1</td>\n",
       "    </tr>\n",
       "  </tbody>\n",
       "</table>\n",
       "</div>"
      ],
      "text/plain": [
       "      star                                            comment  label\n",
       "8621     1                                      드럽게 재미없음 엄청나게      0\n",
       "9129     1                                     좌빨 만화군구나 ㅡㅡ거른다      0\n",
       "5982     7  안야 테일러 조이, 그녀와 '지난밤극장에서' 함께한 지금 이 '순간', 황홀하고 아...      1\n",
       "4343    10       감동적이면서 유머가 있고 편견에대한 우리들의 진짜가 무엇인지  말해주는 이야기.      1\n",
       "5212     7                             볼만한 액션 영화 이거보던 시절이 그립네      1\n",
       "9780     1  아무리 생각없이 본다고하지만.. 여성들이 무슨 노리개냐!! 이걸 영화라고 만들다니....      0\n",
       "7695     1                     그냥 더러운 영화..감독들의 온갖 촌스러운 망상의 향연      0\n",
       "5598    10                               여운이 정말 많이 남는 영화.. 최고      1\n",
       "1510    10                               아. 2시간이 순삭되는 몰입의 순간.      1\n",
       "801      7                이런류의 영화 많이 좋아하는데아쉬운점도 크고 그래도 볼만은 했다      1"
      ]
     },
     "execution_count": 77,
     "metadata": {},
     "output_type": "execute_result"
    }
   ],
   "source": [
    "# comment가 없는 경우 제외\n",
    "df = df[df['comment']!='']\n",
    "df.sample(10)"
   ]
  },
  {
   "cell_type": "code",
   "execution_count": null,
   "metadata": {},
   "outputs": [],
   "source": []
  }
 ],
 "metadata": {
  "interpreter": {
   "hash": "0be24c33af7446dafa391074f2280be7d3113abbd9fa0fd6b60ea42f0333b281"
  },
  "kernelspec": {
   "display_name": "Python 3.8.12 64-bit ('movie_review': conda)",
   "language": "python",
   "name": "python3"
  },
  "language_info": {
   "codemirror_mode": {
    "name": "ipython",
    "version": 3
   },
   "file_extension": ".py",
   "mimetype": "text/x-python",
   "name": "python",
   "nbconvert_exporter": "python",
   "pygments_lexer": "ipython3",
   "version": "3.8.12"
  },
  "orig_nbformat": 4
 },
 "nbformat": 4,
 "nbformat_minor": 2
}
