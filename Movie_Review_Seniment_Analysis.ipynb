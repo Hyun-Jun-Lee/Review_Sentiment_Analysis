{
  "nbformat": 4,
  "nbformat_minor": 0,
  "metadata": {
    "colab": {
      "name": "Movie_Review_Seniment_Analysis.ipynb",
      "provenance": [],
      "mount_file_id": "1QN8SFNb5-6Gv1dKQgAXOOzGCKNWT-oT8",
      "authorship_tag": "ABX9TyOZOtfcgJPJmMgQwclrsWJ6",
      "include_colab_link": true
    },
    "kernelspec": {
      "name": "python3",
      "display_name": "Python 3"
    },
    "language_info": {
      "name": "python"
    }
  },
  "cells": [
    {
      "cell_type": "markdown",
      "metadata": {
        "id": "view-in-github",
        "colab_type": "text"
      },
      "source": [
        "<a href=\"https://colab.research.google.com/github/Hyun-Jun-Lee/Review_Sentiment_Analysis/blob/main/Movie_Review_Seniment_Analysis.ipynb\" target=\"_parent\"><img src=\"https://colab.research.google.com/assets/colab-badge.svg\" alt=\"Open In Colab\"/></a>"
      ]
    },
    {
      "cell_type": "markdown",
      "source": [
        "# Import Library"
      ],
      "metadata": {
        "id": "CKYEMGoUjTzN"
      }
    },
    {
      "cell_type": "code",
      "source": [
        "!pip install konlpy"
      ],
      "metadata": {
        "id": "cc8ZiFrkj4ry"
      },
      "execution_count": null,
      "outputs": []
    },
    {
      "cell_type": "code",
      "source": [
        "import pandas as pd\n",
        "import pymongo\n",
        "import matplotlib.pyplot as plt\n",
        "from tqdm import tqdm\n",
        "from tensorflow.keras.preprocessing.text import Tokenizer\n",
        "import numpy as np\n",
        "from tensorflow.keras.preprocessing.sequence import pad_sequences\n",
        "from konlpy.tag import Okt"
      ],
      "metadata": {
        "id": "R9CsWIDbj3aK"
      },
      "execution_count": 2,
      "outputs": []
    },
    {
      "cell_type": "markdown",
      "source": [
        "\n",
        "# Read Data"
      ],
      "metadata": {
        "id": "rb1L3aEsj_VD"
      }
    },
    {
      "cell_type": "code",
      "source": [
        "df = pd.read_csv('/content/drive/MyDrive/crawling_review.csv')\n",
        "stopwords = pd.read_csv('/content/drive/MyDrive/stopword.csv')\n",
        "stopwords = list(stopwords['stopdword'].values)"
      ],
      "metadata": {
        "id": "dJNOmOXhkDgj"
      },
      "execution_count": 10,
      "outputs": []
    },
    {
      "cell_type": "code",
      "source": [
        "df.sample(10)"
      ],
      "metadata": {
        "colab": {
          "base_uri": "https://localhost:8080/",
          "height": 363
        },
        "id": "NRMhpjk9kN-K",
        "outputId": "774f7b84-c41c-4888-ba53-2e4dbf574948"
      },
      "execution_count": 11,
      "outputs": [
        {
          "output_type": "execute_result",
          "data": {
            "text/html": [
              "<div>\n",
              "<style scoped>\n",
              "    .dataframe tbody tr th:only-of-type {\n",
              "        vertical-align: middle;\n",
              "    }\n",
              "\n",
              "    .dataframe tbody tr th {\n",
              "        vertical-align: top;\n",
              "    }\n",
              "\n",
              "    .dataframe thead th {\n",
              "        text-align: right;\n",
              "    }\n",
              "</style>\n",
              "<table border=\"1\" class=\"dataframe\">\n",
              "  <thead>\n",
              "    <tr style=\"text-align: right;\">\n",
              "      <th></th>\n",
              "      <th>Unnamed: 0</th>\n",
              "      <th>star</th>\n",
              "      <th>comment</th>\n",
              "      <th>label</th>\n",
              "    </tr>\n",
              "  </thead>\n",
              "  <tbody>\n",
              "    <tr>\n",
              "      <th>8338</th>\n",
              "      <td>8839</td>\n",
              "      <td>6</td>\n",
              "      <td>유오성 오대환 연기 진짜 잘하심장혁 연기 정말 잘하는 배우인데 여기서는 뭔가느낌없어...</td>\n",
              "      <td>0</td>\n",
              "    </tr>\n",
              "    <tr>\n",
              "      <th>8280</th>\n",
              "      <td>8781</td>\n",
              "      <td>1</td>\n",
              "      <td>고양이바퀴벌레 생태계파괴</td>\n",
              "      <td>0</td>\n",
              "    </tr>\n",
              "    <tr>\n",
              "      <th>66</th>\n",
              "      <td>73</td>\n",
              "      <td>8</td>\n",
              "      <td>빌리 홀리데이의 인생과 그의 뒷조사와 조작을 했던 미정부의 탄압</td>\n",
              "      <td>1</td>\n",
              "    </tr>\n",
              "    <tr>\n",
              "      <th>7579</th>\n",
              "      <td>8061</td>\n",
              "      <td>6</td>\n",
              "      <td>잼없음ㅜㅜ지겨움첨부터끝까지우울한음악</td>\n",
              "      <td>0</td>\n",
              "    </tr>\n",
              "    <tr>\n",
              "      <th>9196</th>\n",
              "      <td>9710</td>\n",
              "      <td>2</td>\n",
              "      <td>내용이 이해가 잘 안되고 스토리가 뻔함</td>\n",
              "      <td>0</td>\n",
              "    </tr>\n",
              "    <tr>\n",
              "      <th>629</th>\n",
              "      <td>672</td>\n",
              "      <td>10</td>\n",
              "      <td>신이 말씀하셨습니다 너를 타임슬립시켜줄테니 마음껏해라로또를 사도 좋고땅을 미리 사놔...</td>\n",
              "      <td>1</td>\n",
              "    </tr>\n",
              "    <tr>\n",
              "      <th>5167</th>\n",
              "      <td>5540</td>\n",
              "      <td>10</td>\n",
              "      <td>재밋게 봤어요 잔잔한 재미도 있고 델마와 루이스가 생각나는 느낌</td>\n",
              "      <td>1</td>\n",
              "    </tr>\n",
              "    <tr>\n",
              "      <th>8031</th>\n",
              "      <td>8526</td>\n",
              "      <td>1</td>\n",
              "      <td>아놔 엄마새키 ㅡㅡ</td>\n",
              "      <td>0</td>\n",
              "    </tr>\n",
              "    <tr>\n",
              "      <th>1197</th>\n",
              "      <td>1295</td>\n",
              "      <td>10</td>\n",
              "      <td>영화가 끝나고도 영상목소리가 계속 찡하게 울려 퍼진다처음 태일이를 보았을 땐 태일이...</td>\n",
              "      <td>1</td>\n",
              "    </tr>\n",
              "    <tr>\n",
              "      <th>3613</th>\n",
              "      <td>3883</td>\n",
              "      <td>10</td>\n",
              "      <td>기대없이 봤는데 엄청 잼있었어요 ㅎ</td>\n",
              "      <td>1</td>\n",
              "    </tr>\n",
              "  </tbody>\n",
              "</table>\n",
              "</div>"
            ],
            "text/plain": [
              "      Unnamed: 0  ...  label\n",
              "8338        8839  ...      0\n",
              "8280        8781  ...      0\n",
              "66            73  ...      1\n",
              "7579        8061  ...      0\n",
              "9196        9710  ...      0\n",
              "629          672  ...      1\n",
              "5167        5540  ...      1\n",
              "8031        8526  ...      0\n",
              "1197        1295  ...      1\n",
              "3613        3883  ...      1\n",
              "\n",
              "[10 rows x 4 columns]"
            ]
          },
          "metadata": {},
          "execution_count": 11
        }
      ]
    },
    {
      "cell_type": "code",
      "source": [
        "stopwords[:10]"
      ],
      "metadata": {
        "colab": {
          "base_uri": "https://localhost:8080/"
        },
        "id": "tbuZwKNEkPq0",
        "outputId": "d5046f78-0f91-4f9e-aae0-7836a5be7e70"
      },
      "execution_count": 12,
      "outputs": [
        {
          "output_type": "execute_result",
          "data": {
            "text/plain": [
              "['아', '휴', '아이구', '아이쿠', '아이고', '어', '나', '우리', '저희', '따라']"
            ]
          },
          "metadata": {},
          "execution_count": 12
        }
      ]
    },
    {
      "cell_type": "markdown",
      "source": [
        "# 토큰화 및 stopword 제거"
      ],
      "metadata": {
        "id": "OEA9BRwfkZJW"
      }
    },
    {
      "cell_type": "code",
      "source": [
        "# 한국 형태소 분석기\n",
        "okt = Okt()"
      ],
      "metadata": {
        "id": "mxJvHV5BlI5-"
      },
      "execution_count": 8,
      "outputs": []
    },
    {
      "cell_type": "code",
      "source": [
        "data = []\n",
        "for sentence in tqdm(df['comment']):\n",
        "    tokenized_sentence = okt.morphs(sentence, stem=True) # 토큰화\n",
        "    stopwords_removed_sentence = [word for word in tokenized_sentence if not word in stopwords] # 불용어 제거\n",
        "    data.append(stopwords_removed_sentence)"
      ],
      "metadata": {
        "id": "bJWpK8HSlg7H"
      },
      "execution_count": null,
      "outputs": []
    }
  ]
}