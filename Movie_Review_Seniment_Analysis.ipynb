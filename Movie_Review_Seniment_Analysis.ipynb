{
  "nbformat": 4,
  "nbformat_minor": 0,
  "metadata": {
    "colab": {
      "name": "Movie_Review_Seniment_Analysis.ipynb",
      "provenance": [],
      "mount_file_id": "1QN8SFNb5-6Gv1dKQgAXOOzGCKNWT-oT8",
      "authorship_tag": "ABX9TyOLrTT6ujlRK/DcKFJZ26wJ",
      "include_colab_link": true
    },
    "kernelspec": {
      "name": "python3",
      "display_name": "Python 3"
    },
    "language_info": {
      "name": "python"
    }
  },
  "cells": [
    {
      "cell_type": "markdown",
      "metadata": {
        "id": "view-in-github",
        "colab_type": "text"
      },
      "source": [
        "<a href=\"https://colab.research.google.com/github/Hyun-Jun-Lee/Review_Sentiment_Analysis/blob/main/Movie_Review_Seniment_Analysis.ipynb\" target=\"_parent\"><img src=\"https://colab.research.google.com/assets/colab-badge.svg\" alt=\"Open In Colab\"/></a>"
      ]
    },
    {
      "cell_type": "markdown",
      "source": [
        "# Import Library"
      ],
      "metadata": {
        "id": "CKYEMGoUjTzN"
      }
    },
    {
      "cell_type": "code",
      "source": [
        "!pip install konlpy"
      ],
      "metadata": {
        "id": "cc8ZiFrkj4ry"
      },
      "execution_count": null,
      "outputs": []
    },
    {
      "cell_type": "code",
      "source": [
        "import pandas as pd\n",
        "import pymongo\n",
        "import matplotlib.pyplot as plt\n",
        "from tqdm import tqdm\n",
        "from tensorflow.keras.preprocessing.text import Tokenizer\n",
        "import numpy as np\n",
        "from tensorflow.keras.preprocessing.sequence import pad_sequences\n",
        "from konlpy.tag import Okt"
      ],
      "metadata": {
        "id": "R9CsWIDbj3aK"
      },
      "execution_count": 2,
      "outputs": []
    },
    {
      "cell_type": "markdown",
      "source": [
        "\n",
        "# Read Data"
      ],
      "metadata": {
        "id": "rb1L3aEsj_VD"
      }
    },
    {
      "cell_type": "code",
      "source": [
        "df = pd.read_csv('/content/drive/MyDrive/crawling_review.csv')\n",
        "stopwords = pd.read_csv('/content/drive/MyDrive/stopword.csv')"
      ],
      "metadata": {
        "id": "dJNOmOXhkDgj"
      },
      "execution_count": 3,
      "outputs": []
    },
    {
      "cell_type": "code",
      "source": [
        "df.sample(10)"
      ],
      "metadata": {
        "colab": {
          "base_uri": "https://localhost:8080/",
          "height": 363
        },
        "id": "NRMhpjk9kN-K",
        "outputId": "7529849a-92b1-4f29-a299-c24506398148"
      },
      "execution_count": 6,
      "outputs": [
        {
          "output_type": "execute_result",
          "data": {
            "text/html": [
              "<div>\n",
              "<style scoped>\n",
              "    .dataframe tbody tr th:only-of-type {\n",
              "        vertical-align: middle;\n",
              "    }\n",
              "\n",
              "    .dataframe tbody tr th {\n",
              "        vertical-align: top;\n",
              "    }\n",
              "\n",
              "    .dataframe thead th {\n",
              "        text-align: right;\n",
              "    }\n",
              "</style>\n",
              "<table border=\"1\" class=\"dataframe\">\n",
              "  <thead>\n",
              "    <tr style=\"text-align: right;\">\n",
              "      <th></th>\n",
              "      <th>Unnamed: 0</th>\n",
              "      <th>star</th>\n",
              "      <th>comment</th>\n",
              "      <th>label</th>\n",
              "    </tr>\n",
              "  </thead>\n",
              "  <tbody>\n",
              "    <tr>\n",
              "      <th>2568</th>\n",
              "      <td>2758</td>\n",
              "      <td>7</td>\n",
              "      <td>다소 이국적인 코미디 컨셉과 이질적인 대사들이 난해하다 그러나 알록달록 비쥬얼과 뮤...</td>\n",
              "      <td>1</td>\n",
              "    </tr>\n",
              "    <tr>\n",
              "      <th>8565</th>\n",
              "      <td>9068</td>\n",
              "      <td>2</td>\n",
              "      <td>진짜 여자분 모시고 갔는데 머리가 어질어질 하던데요 연애 시작하시는 분들 가서 후회...</td>\n",
              "      <td>0</td>\n",
              "    </tr>\n",
              "    <tr>\n",
              "      <th>6446</th>\n",
              "      <td>6908</td>\n",
              "      <td>7</td>\n",
              "      <td>엉성한 부분도 있지만 킬링타임으로 몰입해서 잘봄</td>\n",
              "      <td>1</td>\n",
              "    </tr>\n",
              "    <tr>\n",
              "      <th>2335</th>\n",
              "      <td>2505</td>\n",
              "      <td>10</td>\n",
              "      <td>대한민국 사법권이 얼마나 무능력 한지 대한민국 여경이  범죄자 인권이 왜 필요없는지...</td>\n",
              "      <td>1</td>\n",
              "    </tr>\n",
              "    <tr>\n",
              "      <th>4384</th>\n",
              "      <td>4708</td>\n",
              "      <td>8</td>\n",
              "      <td>차별저항투옥탈출자유</td>\n",
              "      <td>1</td>\n",
              "    </tr>\n",
              "    <tr>\n",
              "      <th>5115</th>\n",
              "      <td>5487</td>\n",
              "      <td>10</td>\n",
              "      <td>일단 보지는 못했지만 상영끝나면 네이버로 받아서 봐야겠어요</td>\n",
              "      <td>1</td>\n",
              "    </tr>\n",
              "    <tr>\n",
              "      <th>7560</th>\n",
              "      <td>8042</td>\n",
              "      <td>4</td>\n",
              "      <td>스토리에 흥미요소 매우부족합니다 연기는 볼만하네요</td>\n",
              "      <td>0</td>\n",
              "    </tr>\n",
              "    <tr>\n",
              "      <th>4212</th>\n",
              "      <td>4524</td>\n",
              "      <td>10</td>\n",
              "      <td>재미있게 잘 봤습니다</td>\n",
              "      <td>1</td>\n",
              "    </tr>\n",
              "    <tr>\n",
              "      <th>5085</th>\n",
              "      <td>5454</td>\n",
              "      <td>10</td>\n",
              "      <td>한국판 존 윅을 보는 느낌 액션 대박입니다근데 포스터가 너무 재미없어보여요</td>\n",
              "      <td>1</td>\n",
              "    </tr>\n",
              "    <tr>\n",
              "      <th>9294</th>\n",
              "      <td>9808</td>\n",
              "      <td>4</td>\n",
              "      <td>늘 거친 지원과 느끼한 용우와 그걸 지켜보는 나 그건 아마도 고통 같은 관람</td>\n",
              "      <td>0</td>\n",
              "    </tr>\n",
              "  </tbody>\n",
              "</table>\n",
              "</div>"
            ],
            "text/plain": [
              "      Unnamed: 0  ...  label\n",
              "2568        2758  ...      1\n",
              "8565        9068  ...      0\n",
              "6446        6908  ...      1\n",
              "2335        2505  ...      1\n",
              "4384        4708  ...      1\n",
              "5115        5487  ...      1\n",
              "7560        8042  ...      0\n",
              "4212        4524  ...      1\n",
              "5085        5454  ...      1\n",
              "9294        9808  ...      0\n",
              "\n",
              "[10 rows x 4 columns]"
            ]
          },
          "metadata": {},
          "execution_count": 6
        }
      ]
    },
    {
      "cell_type": "code",
      "source": [
        "stopwords[:10]"
      ],
      "metadata": {
        "colab": {
          "base_uri": "https://localhost:8080/",
          "height": 363
        },
        "id": "tbuZwKNEkPq0",
        "outputId": "5ee9ebb6-7e9f-4cf8-d192-01c35f46fa4d"
      },
      "execution_count": 7,
      "outputs": [
        {
          "output_type": "execute_result",
          "data": {
            "text/html": [
              "<div>\n",
              "<style scoped>\n",
              "    .dataframe tbody tr th:only-of-type {\n",
              "        vertical-align: middle;\n",
              "    }\n",
              "\n",
              "    .dataframe tbody tr th {\n",
              "        vertical-align: top;\n",
              "    }\n",
              "\n",
              "    .dataframe thead th {\n",
              "        text-align: right;\n",
              "    }\n",
              "</style>\n",
              "<table border=\"1\" class=\"dataframe\">\n",
              "  <thead>\n",
              "    <tr style=\"text-align: right;\">\n",
              "      <th></th>\n",
              "      <th>stopdword</th>\n",
              "    </tr>\n",
              "  </thead>\n",
              "  <tbody>\n",
              "    <tr>\n",
              "      <th>0</th>\n",
              "      <td>아</td>\n",
              "    </tr>\n",
              "    <tr>\n",
              "      <th>1</th>\n",
              "      <td>휴</td>\n",
              "    </tr>\n",
              "    <tr>\n",
              "      <th>2</th>\n",
              "      <td>아이구</td>\n",
              "    </tr>\n",
              "    <tr>\n",
              "      <th>3</th>\n",
              "      <td>아이쿠</td>\n",
              "    </tr>\n",
              "    <tr>\n",
              "      <th>4</th>\n",
              "      <td>아이고</td>\n",
              "    </tr>\n",
              "    <tr>\n",
              "      <th>5</th>\n",
              "      <td>어</td>\n",
              "    </tr>\n",
              "    <tr>\n",
              "      <th>6</th>\n",
              "      <td>나</td>\n",
              "    </tr>\n",
              "    <tr>\n",
              "      <th>7</th>\n",
              "      <td>우리</td>\n",
              "    </tr>\n",
              "    <tr>\n",
              "      <th>8</th>\n",
              "      <td>저희</td>\n",
              "    </tr>\n",
              "    <tr>\n",
              "      <th>9</th>\n",
              "      <td>따라</td>\n",
              "    </tr>\n",
              "  </tbody>\n",
              "</table>\n",
              "</div>"
            ],
            "text/plain": [
              "  stopdword\n",
              "0         아\n",
              "1         휴\n",
              "2       아이구\n",
              "3       아이쿠\n",
              "4       아이고\n",
              "5         어\n",
              "6         나\n",
              "7        우리\n",
              "8        저희\n",
              "9        따라"
            ]
          },
          "metadata": {},
          "execution_count": 7
        }
      ]
    },
    {
      "cell_type": "markdown",
      "source": [
        "# 토큰화 및 stopword 제거"
      ],
      "metadata": {
        "id": "OEA9BRwfkZJW"
      }
    },
    {
      "cell_type": "code",
      "source": [
        ""
      ],
      "metadata": {
        "id": "mxJvHV5BlI5-"
      },
      "execution_count": null,
      "outputs": []
    }
  ]
}